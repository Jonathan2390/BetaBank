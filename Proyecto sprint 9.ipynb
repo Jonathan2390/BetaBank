{
 "cells": [
  {
   "cell_type": "markdown",
   "metadata": {},
   "source": [
    "# Beta bank Aprendizaje supervisado"
   ]
  },
  {
   "cell_type": "markdown",
   "metadata": {},
   "source": [
    "## Descripción del proyecto"
   ]
  },
  {
   "cell_type": "markdown",
   "metadata": {},
   "source": [
    "Los clientes de Beta Bank se están yendo, cada mes, poco a poco. Los banqueros descubrieron que es más barato salvar a los clientes existentes que atraer nuevos.\n",
    "\n",
    "Necesitamos predecir si un cliente dejará el banco pronto. Tú tienes los datos sobre el comportamiento pasado de los clientes y la terminación de contratos con el banco.\n",
    "\n",
    "Crea un modelo con el máximo valor F1 posible. Para aprobar la revisión, necesitas un valor F1 de al menos 0.59. Verifica F1 para el conjunto de prueba. \n",
    "\n",
    "Además, debes medir la métrica AUC-ROC y compararla con el valor F1."
   ]
  },
  {
   "cell_type": "markdown",
   "metadata": {},
   "source": [
    "## Preparación de los datos"
   ]
  },
  {
   "cell_type": "markdown",
   "metadata": {},
   "source": [
    "### Importación de las librerías"
   ]
  },
  {
   "cell_type": "code",
   "execution_count": null,
   "metadata": {
    "trusted": false
   },
   "outputs": [
    {
     "name": "stderr",
     "output_type": "stream",
     "text": [
      "\n",
      "A module that was compiled using NumPy 1.x cannot be run in\n",
      "NumPy 2.1.3 as it may crash. To support both 1.x and 2.x\n",
      "versions of NumPy, modules must be compiled with NumPy 2.0.\n",
      "Some module may need to rebuild instead e.g. with 'pybind11>=2.12'.\n",
      "\n",
      "If you are a user of the module, the easiest solution will be to\n",
      "downgrade to 'numpy<2' or try to upgrade the affected module.\n",
      "We expect that some modules will need time to support NumPy 2.\n",
      "\n",
      "Traceback (most recent call last):  File \"<frozen runpy>\", line 198, in _run_module_as_main\n",
      "  File \"<frozen runpy>\", line 88, in _run_code\n",
      "  File \"C:\\Users\\jonat\\AppData\\Roaming\\Python\\Python312\\site-packages\\ipykernel_launcher.py\", line 18, in <module>\n",
      "    app.launch_new_instance()\n",
      "  File \"C:\\Users\\jonat\\AppData\\Roaming\\Python\\Python312\\site-packages\\traitlets\\config\\application.py\", line 1075, in launch_instance\n",
      "    app.start()\n",
      "  File \"C:\\Users\\jonat\\AppData\\Roaming\\Python\\Python312\\site-packages\\ipykernel\\kernelapp.py\", line 739, in start\n",
      "    self.io_loop.start()\n",
      "  File \"C:\\Users\\jonat\\AppData\\Roaming\\Python\\Python312\\site-packages\\tornado\\platform\\asyncio.py\", line 205, in start\n",
      "    self.asyncio_loop.run_forever()\n",
      "  File \"c:\\Users\\jonat\\anaconda3\\Lib\\asyncio\\base_events.py\", line 641, in run_forever\n",
      "    self._run_once()\n",
      "  File \"c:\\Users\\jonat\\anaconda3\\Lib\\asyncio\\base_events.py\", line 1986, in _run_once\n",
      "    handle._run()\n",
      "  File \"c:\\Users\\jonat\\anaconda3\\Lib\\asyncio\\events.py\", line 88, in _run\n",
      "    self._context.run(self._callback, *self._args)\n",
      "  File \"C:\\Users\\jonat\\AppData\\Roaming\\Python\\Python312\\site-packages\\ipykernel\\kernelbase.py\", line 545, in dispatch_queue\n",
      "    await self.process_one()\n",
      "  File \"C:\\Users\\jonat\\AppData\\Roaming\\Python\\Python312\\site-packages\\ipykernel\\kernelbase.py\", line 534, in process_one\n",
      "    await dispatch(*args)\n",
      "  File \"C:\\Users\\jonat\\AppData\\Roaming\\Python\\Python312\\site-packages\\ipykernel\\kernelbase.py\", line 437, in dispatch_shell\n",
      "    await result\n",
      "  File \"C:\\Users\\jonat\\AppData\\Roaming\\Python\\Python312\\site-packages\\ipykernel\\ipkernel.py\", line 362, in execute_request\n",
      "    await super().execute_request(stream, ident, parent)\n",
      "  File \"C:\\Users\\jonat\\AppData\\Roaming\\Python\\Python312\\site-packages\\ipykernel\\kernelbase.py\", line 778, in execute_request\n",
      "    reply_content = await reply_content\n",
      "  File \"C:\\Users\\jonat\\AppData\\Roaming\\Python\\Python312\\site-packages\\ipykernel\\ipkernel.py\", line 449, in do_execute\n",
      "    res = shell.run_cell(\n",
      "  File \"C:\\Users\\jonat\\AppData\\Roaming\\Python\\Python312\\site-packages\\ipykernel\\zmqshell.py\", line 549, in run_cell\n",
      "    return super().run_cell(*args, **kwargs)\n",
      "  File \"C:\\Users\\jonat\\AppData\\Roaming\\Python\\Python312\\site-packages\\IPython\\core\\interactiveshell.py\", line 3075, in run_cell\n",
      "    result = self._run_cell(\n",
      "  File \"C:\\Users\\jonat\\AppData\\Roaming\\Python\\Python312\\site-packages\\IPython\\core\\interactiveshell.py\", line 3130, in _run_cell\n",
      "    result = runner(coro)\n",
      "  File \"C:\\Users\\jonat\\AppData\\Roaming\\Python\\Python312\\site-packages\\IPython\\core\\async_helpers.py\", line 128, in _pseudo_sync_runner\n",
      "    coro.send(None)\n",
      "  File \"C:\\Users\\jonat\\AppData\\Roaming\\Python\\Python312\\site-packages\\IPython\\core\\interactiveshell.py\", line 3334, in run_cell_async\n",
      "    has_raised = await self.run_ast_nodes(code_ast.body, cell_name,\n",
      "  File \"C:\\Users\\jonat\\AppData\\Roaming\\Python\\Python312\\site-packages\\IPython\\core\\interactiveshell.py\", line 3517, in run_ast_nodes\n",
      "    if await self.run_code(code, result, async_=asy):\n",
      "  File \"C:\\Users\\jonat\\AppData\\Roaming\\Python\\Python312\\site-packages\\IPython\\core\\interactiveshell.py\", line 3577, in run_code\n",
      "    exec(code_obj, self.user_global_ns, self.user_ns)\n",
      "  File \"C:\\Users\\jonat\\AppData\\Local\\Temp\\ipykernel_5284\\2497881199.py\", line 1, in <module>\n",
      "    import pandas as pd\n",
      "  File \"C:\\Users\\jonat\\AppData\\Roaming\\Python\\Python312\\site-packages\\pandas\\__init__.py\", line 62, in <module>\n",
      "    from pandas.core.api import (\n",
      "  File \"C:\\Users\\jonat\\AppData\\Roaming\\Python\\Python312\\site-packages\\pandas\\core\\api.py\", line 28, in <module>\n",
      "    from pandas.core.arrays import Categorical\n",
      "  File \"C:\\Users\\jonat\\AppData\\Roaming\\Python\\Python312\\site-packages\\pandas\\core\\arrays\\__init__.py\", line 1, in <module>\n",
      "    from pandas.core.arrays.arrow import ArrowExtensionArray\n",
      "  File \"C:\\Users\\jonat\\AppData\\Roaming\\Python\\Python312\\site-packages\\pandas\\core\\arrays\\arrow\\__init__.py\", line 5, in <module>\n",
      "    from pandas.core.arrays.arrow.array import ArrowExtensionArray\n",
      "  File \"C:\\Users\\jonat\\AppData\\Roaming\\Python\\Python312\\site-packages\\pandas\\core\\arrays\\arrow\\array.py\", line 50, in <module>\n",
      "    from pandas.core import (\n",
      "  File \"C:\\Users\\jonat\\AppData\\Roaming\\Python\\Python312\\site-packages\\pandas\\core\\ops\\__init__.py\", line 8, in <module>\n",
      "    from pandas.core.ops.array_ops import (\n",
      "  File \"C:\\Users\\jonat\\AppData\\Roaming\\Python\\Python312\\site-packages\\pandas\\core\\ops\\array_ops.py\", line 56, in <module>\n",
      "    from pandas.core.computation import expressions\n",
      "  File \"C:\\Users\\jonat\\AppData\\Roaming\\Python\\Python312\\site-packages\\pandas\\core\\computation\\expressions.py\", line 21, in <module>\n",
      "    from pandas.core.computation.check import NUMEXPR_INSTALLED\n",
      "  File \"C:\\Users\\jonat\\AppData\\Roaming\\Python\\Python312\\site-packages\\pandas\\core\\computation\\check.py\", line 5, in <module>\n",
      "    ne = import_optional_dependency(\"numexpr\", errors=\"warn\")\n",
      "  File \"C:\\Users\\jonat\\AppData\\Roaming\\Python\\Python312\\site-packages\\pandas\\compat\\_optional.py\", line 135, in import_optional_dependency\n",
      "    module = importlib.import_module(name)\n",
      "  File \"c:\\Users\\jonat\\anaconda3\\Lib\\importlib\\__init__.py\", line 90, in import_module\n",
      "    return _bootstrap._gcd_import(name[level:], package, level)\n",
      "  File \"c:\\Users\\jonat\\anaconda3\\Lib\\site-packages\\numexpr\\__init__.py\", line 24, in <module>\n",
      "    from numexpr.interpreter import MAX_THREADS, use_vml, __BLOCK_SIZE1__\n"
     ]
    },
    {
     "ename": "AttributeError",
     "evalue": "_ARRAY_API not found",
     "output_type": "error",
     "traceback": [
      "\u001b[1;31m---------------------------------------------------------------------------\u001b[0m",
      "\u001b[1;31mAttributeError\u001b[0m                            Traceback (most recent call last)",
      "\u001b[1;31mAttributeError\u001b[0m: _ARRAY_API not found"
     ]
    },
    {
     "name": "stderr",
     "output_type": "stream",
     "text": [
      "\n",
      "A module that was compiled using NumPy 1.x cannot be run in\n",
      "NumPy 2.1.3 as it may crash. To support both 1.x and 2.x\n",
      "versions of NumPy, modules must be compiled with NumPy 2.0.\n",
      "Some module may need to rebuild instead e.g. with 'pybind11>=2.12'.\n",
      "\n",
      "If you are a user of the module, the easiest solution will be to\n",
      "downgrade to 'numpy<2' or try to upgrade the affected module.\n",
      "We expect that some modules will need time to support NumPy 2.\n",
      "\n",
      "Traceback (most recent call last):  File \"<frozen runpy>\", line 198, in _run_module_as_main\n",
      "  File \"<frozen runpy>\", line 88, in _run_code\n",
      "  File \"C:\\Users\\jonat\\AppData\\Roaming\\Python\\Python312\\site-packages\\ipykernel_launcher.py\", line 18, in <module>\n",
      "    app.launch_new_instance()\n",
      "  File \"C:\\Users\\jonat\\AppData\\Roaming\\Python\\Python312\\site-packages\\traitlets\\config\\application.py\", line 1075, in launch_instance\n",
      "    app.start()\n",
      "  File \"C:\\Users\\jonat\\AppData\\Roaming\\Python\\Python312\\site-packages\\ipykernel\\kernelapp.py\", line 739, in start\n",
      "    self.io_loop.start()\n",
      "  File \"C:\\Users\\jonat\\AppData\\Roaming\\Python\\Python312\\site-packages\\tornado\\platform\\asyncio.py\", line 205, in start\n",
      "    self.asyncio_loop.run_forever()\n",
      "  File \"c:\\Users\\jonat\\anaconda3\\Lib\\asyncio\\base_events.py\", line 641, in run_forever\n",
      "    self._run_once()\n",
      "  File \"c:\\Users\\jonat\\anaconda3\\Lib\\asyncio\\base_events.py\", line 1986, in _run_once\n",
      "    handle._run()\n",
      "  File \"c:\\Users\\jonat\\anaconda3\\Lib\\asyncio\\events.py\", line 88, in _run\n",
      "    self._context.run(self._callback, *self._args)\n",
      "  File \"C:\\Users\\jonat\\AppData\\Roaming\\Python\\Python312\\site-packages\\ipykernel\\kernelbase.py\", line 545, in dispatch_queue\n",
      "    await self.process_one()\n",
      "  File \"C:\\Users\\jonat\\AppData\\Roaming\\Python\\Python312\\site-packages\\ipykernel\\kernelbase.py\", line 534, in process_one\n",
      "    await dispatch(*args)\n",
      "  File \"C:\\Users\\jonat\\AppData\\Roaming\\Python\\Python312\\site-packages\\ipykernel\\kernelbase.py\", line 437, in dispatch_shell\n",
      "    await result\n",
      "  File \"C:\\Users\\jonat\\AppData\\Roaming\\Python\\Python312\\site-packages\\ipykernel\\ipkernel.py\", line 362, in execute_request\n",
      "    await super().execute_request(stream, ident, parent)\n",
      "  File \"C:\\Users\\jonat\\AppData\\Roaming\\Python\\Python312\\site-packages\\ipykernel\\kernelbase.py\", line 778, in execute_request\n",
      "    reply_content = await reply_content\n",
      "  File \"C:\\Users\\jonat\\AppData\\Roaming\\Python\\Python312\\site-packages\\ipykernel\\ipkernel.py\", line 449, in do_execute\n",
      "    res = shell.run_cell(\n",
      "  File \"C:\\Users\\jonat\\AppData\\Roaming\\Python\\Python312\\site-packages\\ipykernel\\zmqshell.py\", line 549, in run_cell\n",
      "    return super().run_cell(*args, **kwargs)\n",
      "  File \"C:\\Users\\jonat\\AppData\\Roaming\\Python\\Python312\\site-packages\\IPython\\core\\interactiveshell.py\", line 3075, in run_cell\n",
      "    result = self._run_cell(\n",
      "  File \"C:\\Users\\jonat\\AppData\\Roaming\\Python\\Python312\\site-packages\\IPython\\core\\interactiveshell.py\", line 3130, in _run_cell\n",
      "    result = runner(coro)\n",
      "  File \"C:\\Users\\jonat\\AppData\\Roaming\\Python\\Python312\\site-packages\\IPython\\core\\async_helpers.py\", line 128, in _pseudo_sync_runner\n",
      "    coro.send(None)\n",
      "  File \"C:\\Users\\jonat\\AppData\\Roaming\\Python\\Python312\\site-packages\\IPython\\core\\interactiveshell.py\", line 3334, in run_cell_async\n",
      "    has_raised = await self.run_ast_nodes(code_ast.body, cell_name,\n",
      "  File \"C:\\Users\\jonat\\AppData\\Roaming\\Python\\Python312\\site-packages\\IPython\\core\\interactiveshell.py\", line 3517, in run_ast_nodes\n",
      "    if await self.run_code(code, result, async_=asy):\n",
      "  File \"C:\\Users\\jonat\\AppData\\Roaming\\Python\\Python312\\site-packages\\IPython\\core\\interactiveshell.py\", line 3577, in run_code\n",
      "    exec(code_obj, self.user_global_ns, self.user_ns)\n",
      "  File \"C:\\Users\\jonat\\AppData\\Local\\Temp\\ipykernel_5284\\2497881199.py\", line 1, in <module>\n",
      "    import pandas as pd\n",
      "  File \"C:\\Users\\jonat\\AppData\\Roaming\\Python\\Python312\\site-packages\\pandas\\__init__.py\", line 62, in <module>\n",
      "    from pandas.core.api import (\n",
      "  File \"C:\\Users\\jonat\\AppData\\Roaming\\Python\\Python312\\site-packages\\pandas\\core\\api.py\", line 28, in <module>\n",
      "    from pandas.core.arrays import Categorical\n",
      "  File \"C:\\Users\\jonat\\AppData\\Roaming\\Python\\Python312\\site-packages\\pandas\\core\\arrays\\__init__.py\", line 1, in <module>\n",
      "    from pandas.core.arrays.arrow import ArrowExtensionArray\n",
      "  File \"C:\\Users\\jonat\\AppData\\Roaming\\Python\\Python312\\site-packages\\pandas\\core\\arrays\\arrow\\__init__.py\", line 5, in <module>\n",
      "    from pandas.core.arrays.arrow.array import ArrowExtensionArray\n",
      "  File \"C:\\Users\\jonat\\AppData\\Roaming\\Python\\Python312\\site-packages\\pandas\\core\\arrays\\arrow\\array.py\", line 64, in <module>\n",
      "    from pandas.core.arrays.masked import BaseMaskedArray\n",
      "  File \"C:\\Users\\jonat\\AppData\\Roaming\\Python\\Python312\\site-packages\\pandas\\core\\arrays\\masked.py\", line 60, in <module>\n",
      "    from pandas.core import (\n",
      "  File \"C:\\Users\\jonat\\AppData\\Roaming\\Python\\Python312\\site-packages\\pandas\\core\\nanops.py\", line 52, in <module>\n",
      "    bn = import_optional_dependency(\"bottleneck\", errors=\"warn\")\n",
      "  File \"C:\\Users\\jonat\\AppData\\Roaming\\Python\\Python312\\site-packages\\pandas\\compat\\_optional.py\", line 135, in import_optional_dependency\n",
      "    module = importlib.import_module(name)\n",
      "  File \"c:\\Users\\jonat\\anaconda3\\Lib\\importlib\\__init__.py\", line 90, in import_module\n",
      "    return _bootstrap._gcd_import(name[level:], package, level)\n",
      "  File \"c:\\Users\\jonat\\anaconda3\\Lib\\site-packages\\bottleneck\\__init__.py\", line 7, in <module>\n",
      "    from .move import (move_argmax, move_argmin, move_max, move_mean, move_median,\n"
     ]
    },
    {
     "ename": "ImportError",
     "evalue": "\nA module that was compiled using NumPy 1.x cannot be run in\nNumPy 2.1.3 as it may crash. To support both 1.x and 2.x\nversions of NumPy, modules must be compiled with NumPy 2.0.\nSome module may need to rebuild instead e.g. with 'pybind11>=2.12'.\n\nIf you are a user of the module, the easiest solution will be to\ndowngrade to 'numpy<2' or try to upgrade the affected module.\nWe expect that some modules will need time to support NumPy 2.\n\n",
     "output_type": "error",
     "traceback": [
      "\u001b[1;31m---------------------------------------------------------------------------\u001b[0m",
      "\u001b[1;31mImportError\u001b[0m                               Traceback (most recent call last)",
      "File \u001b[1;32m~\\AppData\\Roaming\\Python\\Python312\\site-packages\\numpy\\core\\_multiarray_umath.py:44\u001b[0m, in \u001b[0;36m__getattr__\u001b[1;34m(attr_name)\u001b[0m\n\u001b[0;32m     39\u001b[0m     \u001b[38;5;66;03m# Also print the message (with traceback).  This is because old versions\u001b[39;00m\n\u001b[0;32m     40\u001b[0m     \u001b[38;5;66;03m# of NumPy unfortunately set up the import to replace (and hide) the\u001b[39;00m\n\u001b[0;32m     41\u001b[0m     \u001b[38;5;66;03m# error.  The traceback shouldn't be needed, but e.g. pytest plugins\u001b[39;00m\n\u001b[0;32m     42\u001b[0m     \u001b[38;5;66;03m# seem to swallow it and we should be failing anyway...\u001b[39;00m\n\u001b[0;32m     43\u001b[0m     sys\u001b[38;5;241m.\u001b[39mstderr\u001b[38;5;241m.\u001b[39mwrite(msg \u001b[38;5;241m+\u001b[39m tb_msg)\n\u001b[1;32m---> 44\u001b[0m     \u001b[38;5;28;01mraise\u001b[39;00m \u001b[38;5;167;01mImportError\u001b[39;00m(msg)\n\u001b[0;32m     46\u001b[0m ret \u001b[38;5;241m=\u001b[39m \u001b[38;5;28mgetattr\u001b[39m(_multiarray_umath, attr_name, \u001b[38;5;28;01mNone\u001b[39;00m)\n\u001b[0;32m     47\u001b[0m \u001b[38;5;28;01mif\u001b[39;00m ret \u001b[38;5;129;01mis\u001b[39;00m \u001b[38;5;28;01mNone\u001b[39;00m:\n",
      "\u001b[1;31mImportError\u001b[0m: \nA module that was compiled using NumPy 1.x cannot be run in\nNumPy 2.1.3 as it may crash. To support both 1.x and 2.x\nversions of NumPy, modules must be compiled with NumPy 2.0.\nSome module may need to rebuild instead e.g. with 'pybind11>=2.12'.\n\nIf you are a user of the module, the easiest solution will be to\ndowngrade to 'numpy<2' or try to upgrade the affected module.\nWe expect that some modules will need time to support NumPy 2.\n\n"
     ]
    }
   ],
   "source": [
    "import pandas as pd\n",
    "import numpy as np\n",
    "from sklearn.tree import DecisionTreeClassifier\n",
    "from sklearn import set_config\n",
    "from sklearn.model_selection import train_test_split\n",
    "from sklearn.model_selection import train_test_split\n",
    "from sklearn.preprocessing import StandardScaler\n",
    "from sklearn.ensemble import RandomForestClassifier\n",
    "from sklearn.metrics import accuracy_score, classification_report\n",
    "from sklearn.linear_model import LogisticRegression\n",
    "from sklearn.model_selection import train_test_split\n",
    "from sklearn.ensemble import RandomForestRegressor\n",
    "from sklearn.tree import DecisionTreeRegressor\n",
    "from sklearn.model_selection import train_test_split\n",
    "from sklearn.metrics import mean_squared_error\n",
    "from sklearn.metrics import recall_score\n",
    "from sklearn.metrics import confusion_matrix\n",
    "from sklearn.preprocessing import OrdinalEncoder\n",
    "from sklearn.metrics import precision_score\n",
    "from sklearn.metrics import f1_score\n",
    "from sklearn.linear_model import LogisticRegression\n",
    "from sklearn.utils import shuffle\n",
    "from sklearn.metrics import precision_recall_curve\n",
    "import matplotlib.pyplot as plt\n",
    "from sklearn.metrics import roc_curve\n",
    "from sklearn.metrics import roc_auc_score\n",
    "from sklearn.preprocessing import StandardScaler\n",
    "from sklearn.linear_model import LinearRegression\n",
    "from sklearn.metrics import r2_score\n",
    "from sklearn.metrics import mean_absolute_error"
   ]
  },
  {
   "cell_type": "markdown",
   "metadata": {},
   "source": [
    "### Importando los datos"
   ]
  },
  {
   "cell_type": "code",
   "execution_count": null,
   "metadata": {
    "trusted": false
   },
   "outputs": [],
   "source": [
    "beta_bank_df = pd.read_csv ('/datasets/Churn.csv')"
   ]
  },
  {
   "cell_type": "code",
   "execution_count": null,
   "metadata": {
    "trusted": false
   },
   "outputs": [
    {
     "name": "stdout",
     "output_type": "stream",
     "text": [
      "<class 'pandas.core.frame.DataFrame'>\n",
      "RangeIndex: 10000 entries, 0 to 9999\n",
      "Data columns (total 14 columns):\n",
      " #   Column           Non-Null Count  Dtype  \n",
      "---  ------           --------------  -----  \n",
      " 0   RowNumber        10000 non-null  int64  \n",
      " 1   CustomerId       10000 non-null  int64  \n",
      " 2   Surname          10000 non-null  object \n",
      " 3   CreditScore      10000 non-null  int64  \n",
      " 4   Geography        10000 non-null  object \n",
      " 5   Gender           10000 non-null  object \n",
      " 6   Age              10000 non-null  int64  \n",
      " 7   Tenure           9091 non-null   float64\n",
      " 8   Balance          10000 non-null  float64\n",
      " 9   NumOfProducts    10000 non-null  int64  \n",
      " 10  HasCrCard        10000 non-null  int64  \n",
      " 11  IsActiveMember   10000 non-null  int64  \n",
      " 12  EstimatedSalary  10000 non-null  float64\n",
      " 13  Exited           10000 non-null  int64  \n",
      "dtypes: float64(3), int64(8), object(3)\n",
      "memory usage: 1.1+ MB\n"
     ]
    }
   ],
   "source": [
    "beta_bank_df.info()"
   ]
  },
  {
   "cell_type": "markdown",
   "metadata": {},
   "source": [
    "Despues de ejecutar el comando info para el dataframe betabank_df, se obtuvo la siguiente información:\n",
    "\n",
    "* Es necesario colocar en minúsculas los nombres de los campos y separar con guiones bajos para facilitar la escritura de los campos más adelante.\n",
    "* Es necesario validar los valores null de la columna Tenure.\n",
    "* Es necesario cambiar el tipo de dato del campo Tenure a entero.\n",
    "\n",
    "\n",
    "Lo anterior para encontrarnos en condiciones de realizar los cálculos de manera correcta"
   ]
  },
  {
   "cell_type": "markdown",
   "metadata": {},
   "source": [
    "#### Formateando los nombres de campos del dataframe"
   ]
  },
  {
   "cell_type": "code",
   "execution_count": null,
   "metadata": {
    "trusted": false
   },
   "outputs": [
    {
     "name": "stdout",
     "output_type": "stream",
     "text": [
      "   row_number  customer_id   surname  credit_score geography  gender  age  \\\n",
      "0           1     15634602  Hargrave           619    France  Female   42   \n",
      "1           2     15647311      Hill           608     Spain  Female   41   \n",
      "2           3     15619304      Onio           502    France  Female   42   \n",
      "3           4     15701354      Boni           699    France  Female   39   \n",
      "4           5     15737888  Mitchell           850     Spain  Female   43   \n",
      "\n",
      "   tenure    balance  num_of_products  has_cr_card  is_active_member  \\\n",
      "0     2.0       0.00                1            1                 1   \n",
      "1     1.0   83807.86                1            0                 1   \n",
      "2     8.0  159660.80                3            1                 0   \n",
      "3     1.0       0.00                2            0                 0   \n",
      "4     2.0  125510.82                1            1                 1   \n",
      "\n",
      "   estimated_salary  exited  \n",
      "0         101348.88       1  \n",
      "1         112542.58       0  \n",
      "2         113931.57       1  \n",
      "3          93826.63       0  \n",
      "4          79084.10       0  \n"
     ]
    }
   ],
   "source": [
    "beta_bank_df.columns = [\n",
    "    'row_number',\n",
    "    'customer_id',\n",
    "    'surname',\n",
    "    'credit_score',\n",
    "    'geography',\n",
    "    'gender',\n",
    "    'age',\n",
    "    'tenure',\n",
    "    'balance',\n",
    "    'num_of_products',\n",
    "    'has_cr_card',\n",
    "    'is_active_member',\n",
    "    'estimated_salary',\n",
    "    'exited'\n",
    "]\n",
    "\n",
    "print(beta_bank_df.head())"
   ]
  },
  {
   "cell_type": "markdown",
   "metadata": {},
   "source": [
    "### Manejando valores nulos"
   ]
  },
  {
   "cell_type": "code",
   "execution_count": null,
   "metadata": {
    "trusted": false
   },
   "outputs": [
    {
     "name": "stdout",
     "output_type": "stream",
     "text": [
      "row_number            0\n",
      "customer_id           0\n",
      "surname               0\n",
      "credit_score          0\n",
      "geography             0\n",
      "gender                0\n",
      "age                   0\n",
      "tenure              909\n",
      "balance               0\n",
      "num_of_products       0\n",
      "has_cr_card           0\n",
      "is_active_member      0\n",
      "estimated_salary      0\n",
      "exited                0\n",
      "dtype: int64\n"
     ]
    }
   ],
   "source": [
    "null_counts = beta_bank_df.isnull().sum()\n",
    "\n",
    "print(null_counts)"
   ]
  },
  {
   "cell_type": "markdown",
   "metadata": {},
   "source": [
    "#### Cambiando valores nulos por 0"
   ]
  },
  {
   "cell_type": "code",
   "execution_count": null,
   "metadata": {
    "trusted": false
   },
   "outputs": [],
   "source": [
    "beta_bank_df['tenure'] = beta_bank_df['tenure'].fillna(0)"
   ]
  },
  {
   "cell_type": "markdown",
   "metadata": {},
   "source": [
    "Una vez aplicado el cambio de los valores nullos por 0, es necesario cambiar el tipo de dato del campo tenure, toda vez que al imprimir una muestra del mismo, se observa que los valores contenidos van del 0 al 10."
   ]
  },
  {
   "cell_type": "markdown",
   "metadata": {},
   "source": [
    "#### Cambiando el tipo de dato del campo tenure"
   ]
  },
  {
   "cell_type": "code",
   "execution_count": null,
   "metadata": {
    "trusted": false
   },
   "outputs": [],
   "source": [
    "beta_bank_df['tenure'] = beta_bank_df['tenure'].astype(int)"
   ]
  },
  {
   "cell_type": "code",
   "execution_count": null,
   "metadata": {
    "trusted": false
   },
   "outputs": [
    {
     "name": "stdout",
     "output_type": "stream",
     "text": [
      "   row_number  customer_id   surname  credit_score geography  gender  age  \\\n",
      "0           1     15634602  Hargrave           619    France  Female   42   \n",
      "1           2     15647311      Hill           608     Spain  Female   41   \n",
      "2           3     15619304      Onio           502    France  Female   42   \n",
      "3           4     15701354      Boni           699    France  Female   39   \n",
      "4           5     15737888  Mitchell           850     Spain  Female   43   \n",
      "\n",
      "   tenure    balance  num_of_products  has_cr_card  is_active_member  \\\n",
      "0       2       0.00                1            1                 1   \n",
      "1       1   83807.86                1            0                 1   \n",
      "2       8  159660.80                3            1                 0   \n",
      "3       1       0.00                2            0                 0   \n",
      "4       2  125510.82                1            1                 1   \n",
      "\n",
      "   estimated_salary  exited  \n",
      "0         101348.88       1  \n",
      "1         112542.58       0  \n",
      "2         113931.57       1  \n",
      "3          93826.63       0  \n",
      "4          79084.10       0  \n"
     ]
    }
   ],
   "source": [
    "print(beta_bank_df.head())"
   ]
  },
  {
   "cell_type": "markdown",
   "metadata": {},
   "source": [
    "#### Manejando valores duplicados"
   ]
  },
  {
   "cell_type": "code",
   "execution_count": null,
   "metadata": {
    "trusted": false
   },
   "outputs": [
    {
     "name": "stdout",
     "output_type": "stream",
     "text": [
      "No existen registros duplicados en el DataFrame.\n"
     ]
    }
   ],
   "source": [
    "duplicated = beta_bank_df.duplicated().sum()\n",
    "if duplicated > 0:\n",
    "    print(f\"Existen {duplicated} registros duplicados en el DataFrame.\")\n",
    "else:\n",
    "    print(\"No existen registros duplicados en el DataFrame.\")"
   ]
  },
  {
   "cell_type": "markdown",
   "metadata": {},
   "source": [
    "<div class=\"alert alert-block alert-success\">  \n",
    "<b>Comentario del revisor</b> <a class=\"tocSkip\"></a><br>  \n",
    "<b>Éxito</b> - Muy buen manejo de los datos al importar, formatear los nombres de las columnas y gestionar los valores nulos y duplicados. La preparación de los datos está bien estructurada y organizada, lo que garantiza que el análisis posterior se pueda realizar sin problemas.  \n",
    "\n",
    "\n",
    "</div>"
   ]
  },
  {
   "cell_type": "markdown",
   "metadata": {},
   "source": [
    "## Generación del modelo"
   ]
  },
  {
   "cell_type": "markdown",
   "metadata": {},
   "source": [
    "Examina el equilibrio de clases.\n",
    "\n",
    "Entrena el modelo sin tener en cuenta el desequilibrio. \n",
    "\n",
    "Describe brevemente tus hallazgos.\n",
    "\n",
    "Mejora la calidad del modelo.\n",
    "\n",
    "Asegúrate de utilizar al menos dos enfoques para corregir el desequilibrio de clases.\n",
    "\n",
    "Utiliza conjuntos de entrenamiento y validación para encontrar el mejor modelo y el mejor conjunto de parámetros.\n",
    "\n",
    "Entrena diferentes modelos en los conjuntos de entrenamiento y validación. \n",
    "\n",
    "Encuentra el mejor. \n",
    "\n",
    "Describe brevemente tus hallazgos.\n",
    "\n",
    "Realiza la prueba final."
   ]
  },
  {
   "cell_type": "markdown",
   "metadata": {},
   "source": [
    "### Examinando el equilibrio de clases."
   ]
  },
  {
   "cell_type": "code",
   "execution_count": null,
   "metadata": {
    "trusted": false
   },
   "outputs": [
    {
     "name": "stdout",
     "output_type": "stream",
     "text": [
      "(7500, 13)\n",
      "(2500, 13)\n"
     ]
    }
   ],
   "source": [
    "\n",
    "train, valid = train_test_split(beta_bank_df, test_size=0.25, random_state=12345)\n",
    "\n",
    "features_train = train.drop('exited', axis=1)\n",
    "target_train = train['exited']\n",
    "features_valid = valid.drop('exited', axis=1)\n",
    "target_valid = valid['exited']\n",
    "\n",
    "print(features_train.shape)\n",
    "print(features_valid.shape)\n"
   ]
  },
  {
   "cell_type": "markdown",
   "metadata": {},
   "source": [
    "El conjunto de datos de entrenamiento tiene 7,500 filas, y el conjunto de datos de validación tiene 2,500 filas."
   ]
  },
  {
   "cell_type": "markdown",
   "metadata": {},
   "source": [
    "### Aplicando codificación de etiquetas"
   ]
  },
  {
   "cell_type": "code",
   "execution_count": null,
   "metadata": {
    "trusted": false
   },
   "outputs": [],
   "source": [
    "encoder = OrdinalEncoder()\n",
    "data_ordinal = pd.DataFrame(encoder.fit_transform(beta_bank_df), columns=beta_bank_df.columns)\n"
   ]
  },
  {
   "cell_type": "markdown",
   "metadata": {},
   "source": [
    "### Entrenando el modelo"
   ]
  },
  {
   "cell_type": "code",
   "execution_count": null,
   "metadata": {
    "trusted": false
   },
   "outputs": [
    {
     "name": "stdout",
     "output_type": "stream",
     "text": [
      "Forma del conjunto de entrenamiento (features_train): (7000, 13)\n",
      "Forma del conjunto de entrenamiento (target_train): (7000,)\n",
      "Forma del conjunto de validación (features_valid): (1500, 13)\n",
      "Forma del conjunto de validación (target_valid): (1500,)\n",
      "Forma del conjunto de prueba (features_test): (1500, 13)\n",
      "Forma del conjunto de prueba (target_test): (1500,)\n",
      "¡Entrenado!\n"
     ]
    }
   ],
   "source": [
    "\n",
    "# Primera división: 70% entrenamiento, 30% temporal\n",
    "df_train, df_temp = train_test_split(data_ordinal, test_size=0.3, random_state=12345)\n",
    "\n",
    "# Segunda división: 50% validación, 50% prueba\n",
    "df_valid, df_test = train_test_split(df_temp, test_size=0.5, random_state=12345)\n",
    "\n",
    "# Declara variables para las características y para la característica objetivo\n",
    "features_train = df_train.drop(['exited'], axis=1)\n",
    "target_train = df_train['exited']\n",
    "\n",
    "features_valid = df_valid.drop(['exited'], axis=1)\n",
    "target_valid = df_valid['exited']\n",
    "\n",
    "features_test = df_test.drop(['exited'], axis=1)\n",
    "target_test = df_test['exited']\n",
    "\n",
    "# Imprime las formas de los conjuntos de datos\n",
    "print(\"Forma del conjunto de entrenamiento (features_train):\", features_train.shape)\n",
    "print(\"Forma del conjunto de entrenamiento (target_train):\", target_train.shape)\n",
    "print(\"Forma del conjunto de validación (features_valid):\", features_valid.shape)\n",
    "print(\"Forma del conjunto de validación (target_valid):\", target_valid.shape)\n",
    "print(\"Forma del conjunto de prueba (features_test):\", features_test.shape)\n",
    "print(\"Forma del conjunto de prueba (target_test):\", target_test.shape)\n",
    "\n",
    "\n",
    "target = data_ordinal['exited']\n",
    "features = data_ordinal.drop('exited', axis=1)\n",
    "features_train, features_valid, target_train, target_valid = train_test_split(\n",
    "    features, target, test_size=0.25, random_state=12345\n",
    ")\n",
    "\n",
    "model = DecisionTreeClassifier(random_state=12345)\n",
    "model.fit(features_train, target_train)\n",
    "\n",
    "print('¡Entrenado!')"
   ]
  },
  {
   "cell_type": "markdown",
   "metadata": {},
   "source": [
    "### Exactitud para el árbol de decisión"
   ]
  },
  {
   "cell_type": "code",
   "execution_count": null,
   "metadata": {
    "trusted": false
   },
   "outputs": [
    {
     "name": "stdout",
     "output_type": "stream",
     "text": [
      "0.7768\n"
     ]
    }
   ],
   "source": [
    "target = data_ordinal['exited']\n",
    "features = data_ordinal.drop('exited', axis=1)\n",
    "features_train, features_valid, target_train, target_valid = train_test_split(\n",
    "    features, target, test_size=0.25, random_state=12345\n",
    ")\n",
    "\n",
    "model = DecisionTreeClassifier(random_state=12345)\n",
    "model.fit(features_train, target_train)\n",
    "predicted_valid = model.predict(features_valid)\n",
    "\n",
    "accuracy_valid = accuracy_score(target_valid, predicted_valid)\n",
    "\n",
    "print(accuracy_valid)\n"
   ]
  },
  {
   "cell_type": "markdown",
   "metadata": {},
   "source": [
    "En resumen, el resultado de 77.68% indica que el modelo de clasificación de árbol de decisión tiene una buena precisión en la predicción de la variable objetivo en el conjunto de validación. Sin embargo, es importante tener en cuenta que la precisión del modelo puede variar dependiendo de la calidad y la cantidad de datos de entrenamiento, y que es posible mejorar la precisión del modelo mediante la optimización de los parámetros del modelo y la selección de características más relevantes."
   ]
  },
  {
   "cell_type": "markdown",
   "metadata": {},
   "source": [
    "### Prueba de consistencia"
   ]
  },
  {
   "cell_type": "code",
   "execution_count": null,
   "metadata": {
    "trusted": false
   },
   "outputs": [
    {
     "name": "stdout",
     "output_type": "stream",
     "text": [
      "0.7963\n"
     ]
    }
   ],
   "source": [
    "target = data_ordinal['exited']\n",
    "features = data_ordinal.drop('exited', axis=1)\n",
    "\n",
    "target_pred_constant = pd.Series(0, index=target.index)\n",
    "\n",
    "print(accuracy_score(target, target_pred_constant))"
   ]
  },
  {
   "cell_type": "markdown",
   "metadata": {},
   "source": [
    "En resumen, el resultado de 0.7963 indica que la mayoría de los clientes no salen del banco y que un modelo que siempre predice 0 tiene una buena precisión. Esto sugiere que la variable objetivo tiene una distribución desequilibrada y que es importante tener en cuenta esta distribución al evaluar la precisión de un modelo."
   ]
  },
  {
   "cell_type": "code",
   "execution_count": null,
   "metadata": {
    "trusted": false
   },
   "outputs": [
    {
     "name": "stdout",
     "output_type": "stream",
     "text": [
      "0.0    0.7964\n",
      "1.0    0.2036\n",
      "dtype: float64\n"
     ]
    },
    {
     "data": {
      "text/plain": [
       "<AxesSubplot:>"
      ]
     },
     "execution_count": 86,
     "metadata": {},
     "output_type": "execute_result"
    },
    {
     "data": {
      "image/png": "[encoded data removed]",
      "text/plain": [
       "<Figure size 640x480 with 1 Axes>"
      ]
     },
     "metadata": {},
     "output_type": "display_data"
    }
   ],
   "source": [
    "model = DecisionTreeClassifier(random_state=12345)\n",
    "model.fit(features_train, target_train)\n",
    "predicted_valid = pd.Series(model.predict(features_valid))\n",
    "\n",
    "class_frequency = predicted_valid.value_counts(normalize=True)\n",
    "print(class_frequency)\n",
    "class_frequency.plot(kind='bar')"
   ]
  },
  {
   "cell_type": "markdown",
   "metadata": {},
   "source": [
    "Nuestro modelo de árbol de decisión produce proporciones de clases que son similares a las que se observan simplemente eligiendo la clase más común en los datos."
   ]
  },
  {
   "cell_type": "markdown",
   "metadata": {},
   "source": [
    "### Predicción de la clase 0"
   ]
  },
  {
   "cell_type": "code",
   "execution_count": null,
   "metadata": {
    "trusted": false
   },
   "outputs": [
    {
     "name": "stdout",
     "output_type": "stream",
     "text": [
      "0.7963\n"
     ]
    }
   ],
   "source": [
    "target = data_ordinal['exited']\n",
    "features = data_ordinal.drop('exited', axis=1)\n",
    "\n",
    "target_pred_constant = pd.Series(0, index=target.index)\n",
    "\n",
    "print(accuracy_score(target, target_pred_constant))"
   ]
  },
  {
   "cell_type": "markdown",
   "metadata": {},
   "source": [
    "El resultado de la función accuracy_score indica que el modelo que siempre predice 0 tiene una precisión del 79.63%, lo que sugiere que la mayoría de los clientes no salen del banco y que este modelo es un buen modelo para predecir si un cliente salió del banco o no."
   ]
  },
  {
   "cell_type": "markdown",
   "metadata": {},
   "source": [
    "### Matriz de confusión"
   ]
  },
  {
   "cell_type": "code",
   "execution_count": null,
   "metadata": {
    "trusted": false
   },
   "outputs": [
    {
     "name": "stdout",
     "output_type": "stream",
     "text": [
      "[[1699  266]\n",
      " [ 292  243]]\n"
     ]
    }
   ],
   "source": [
    "model = DecisionTreeClassifier(random_state=12345)\n",
    "model.fit(features_train, target_train)\n",
    "predicted_valid = model.predict(features_valid)\n",
    "\n",
    "print(confusion_matrix(target_valid, predicted_valid))"
   ]
  },
  {
   "cell_type": "markdown",
   "metadata": {},
   "source": [
    "Posteriormente a la ejecución de la matriz de confusión podimos obtener la siguiente información:\n",
    "\n",
    "* Verdaderos positivos (VP): El modelo predijo correctamente 1,699 casos en los que el cliente no salió del banco (verdaderos positivos).\n",
    "* Falsos positivos (FP): El modelo predijo incorrectamente 266 casos en los que el cliente no salió del banco (falsos positivos).\n",
    "* Verdaderos negativos (VN): El modelo predijo correctamente 243 casos en los que el cliente salió del banco (verdaderos negativos).\n",
    "* Falsos negativos (FN): El modelo predijo incorrectamente 292 casos en los que el cliente salió del banco (falsos negativos).\n",
    "\n",
    "En resumen,  esto sugiere que el modelo es bueno para predecir los casos en los que el cliente no salió del banco, pero no tan bueno para predecir los casos en los que el cliente salió del banco."
   ]
  },
  {
   "cell_type": "markdown",
   "metadata": {},
   "source": [
    "### Recall"
   ]
  },
  {
   "cell_type": "code",
   "execution_count": null,
   "metadata": {
    "trusted": false
   },
   "outputs": [
    {
     "name": "stdout",
     "output_type": "stream",
     "text": [
      "0.4542056074766355\n"
     ]
    }
   ],
   "source": [
    "model = DecisionTreeClassifier(random_state=12345)\n",
    "model.fit(features_train, target_train)\n",
    "predicted_valid = model.predict(features_valid)\n",
    "\n",
    "print(recall_score(target_valid, predicted_valid))"
   ]
  },
  {
   "cell_type": "markdown",
   "metadata": {},
   "source": [
    "La función recall_score indica que el modelo tiene una sensibilidad del 45.42% para predecir los casos en los que el cliente salió del banco. Esto significa que el modelo puede mejorar su sensibilidad si se ajustan los parámetros."
   ]
  },
  {
   "cell_type": "markdown",
   "metadata": {},
   "source": [
    "### Precisión"
   ]
  },
  {
   "cell_type": "code",
   "execution_count": null,
   "metadata": {
    "trusted": false
   },
   "outputs": [
    {
     "name": "stdout",
     "output_type": "stream",
     "text": [
      "0.4774066797642436\n"
     ]
    }
   ],
   "source": [
    "model = DecisionTreeClassifier(random_state=12345)\n",
    "model.fit(features_train, target_train)\n",
    "predicted_valid = model.predict(features_valid)\n",
    "print(precision_score(target_valid, predicted_valid))"
   ]
  },
  {
   "cell_type": "markdown",
   "metadata": {},
   "source": [
    "En resumen, el resultado de la función precision_score indica que el modelo tiene una precisión del 47.74% para predecir los casos en los que el cliente salió del banco, lo que sugiere que el modelo no es muy preciso y que puede mejorar su precisión si se ajustan los parámetros."
   ]
  },
  {
   "cell_type": "markdown",
   "metadata": {},
   "source": [
    "### Valor F1"
   ]
  },
  {
   "cell_type": "code",
   "execution_count": null,
   "metadata": {
    "trusted": false
   },
   "outputs": [
    {
     "name": "stdout",
     "output_type": "stream",
     "text": [
      "0.596745027124774\n"
     ]
    }
   ],
   "source": [
    "model = DecisionTreeClassifier(max_depth=50, min_samples_split=20, min_samples_leaf=10, random_state=12345)\n",
    "model.fit(features_train, target_train)\n",
    "predicted_test = model.predict(features_test)\n",
    "\n",
    "print(f1_score(target_test, predicted_test))"
   ]
  },
  {
   "cell_type": "markdown",
   "metadata": {},
   "source": [
    "El resultado de la función f1_score indica que el modelo tiene una puntuación F1 del 59.67% para predecir los casos en los que el cliente salió del banco, lo que sugiere que el modelo es moderadamente efectivo."
   ]
  },
  {
   "cell_type": "markdown",
   "metadata": {},
   "source": [
    "### Ajustando el peso de clase"
   ]
  },
  {
   "cell_type": "code",
   "execution_count": null,
   "metadata": {
    "trusted": false
   },
   "outputs": [
    {
     "name": "stdout",
     "output_type": "stream",
     "text": [
      "F1: 0.48425196850393704\n"
     ]
    }
   ],
   "source": [
    "model = LogisticRegression(\n",
    "    random_state=12345, class_weight={0: 0.2, 1: 0.8}, solver='liblinear'\n",
    ")\n",
    "model.fit(features_train, target_train)\n",
    "predicted_valid = model.predict(features_valid)\n",
    "print('F1:', f1_score(target_valid, predicted_valid))"
   ]
  },
  {
   "cell_type": "markdown",
   "metadata": {},
   "source": [
    "El modelo de regresión logística con ajuste de peso de las clases ha mejorado la precisión en la predicción de la clase minoritaria, lo que se refleja en un aumento del valor F1. "
   ]
  },
  {
   "cell_type": "markdown",
   "metadata": {},
   "source": [
    "### Sobremuestreo"
   ]
  },
  {
   "cell_type": "code",
   "execution_count": null,
   "metadata": {
    "trusted": false
   },
   "outputs": [
    {
     "name": "stdout",
     "output_type": "stream",
     "text": [
      "F1: 0.41359060402684567\n"
     ]
    }
   ],
   "source": [
    "def upsample(features, target, repeat):\n",
    "    features_zeros = features[target == 0]\n",
    "    features_ones = features[target == 1]\n",
    "    target_zeros = target[target == 0]\n",
    "    target_ones = target[target == 1]\n",
    "\n",
    "    features_upsampled = pd.concat([features_zeros] + [features_ones] * repeat)\n",
    "    target_upsampled = pd.concat([target_zeros] + [target_ones] * repeat)\n",
    "\n",
    "    features_upsampled, target_upsampled = shuffle(\n",
    "        features_upsampled, target_upsampled, random_state=12345\n",
    "    )\n",
    "\n",
    "    return features_upsampled, target_upsampled\n",
    "\n",
    "\n",
    "features_upsampled, target_upsampled = upsample(\n",
    "    features_train, target_train, 10\n",
    ")\n",
    "\n",
    "model = LogisticRegression(random_state=12345, solver='liblinear')\n",
    "model.fit(features_upsampled, target_upsampled)\n",
    "predicted_valid = model.predict(features_valid)\n",
    "print('F1:', f1_score(target_valid, predicted_valid))"
   ]
  },
  {
   "cell_type": "markdown",
   "metadata": {},
   "source": [
    "El sobremuestreo del conjunto de datos de entrenamiento mediante la repetición de las instancias de la clase minoritaria (clase 1) 10 veces ha permitido al modelo aprender patrones más precisos y mejorar su capacidad para clasificar correctamente las instancias del conjunto de validación."
   ]
  },
  {
   "cell_type": "code",
   "execution_count": null,
   "metadata": {
    "trusted": false
   },
   "outputs": [
    {
     "name": "stdout",
     "output_type": "stream",
     "text": [
      "(21018, 13)\n",
      "(21018,)\n"
     ]
    }
   ],
   "source": [
    "features_zeros = features_train[target_train == 0]\n",
    "features_ones = features_train[target_train == 1]\n",
    "target_zeros = target_train[target_train == 0]\n",
    "target_ones = target_train[target_train == 1]\n",
    "\n",
    "repeat = 10\n",
    "features_upsampled = pd.concat([features_zeros] + [features_ones] * repeat)\n",
    "target_upsampled = pd.concat([target_zeros] + [target_ones] * repeat)\n",
    "\n",
    "print(features_upsampled.shape)\n",
    "print(target_upsampled.shape)"
   ]
  },
  {
   "cell_type": "markdown",
   "metadata": {},
   "source": [
    "Se ha logrado equilibrar la distribución de las clases en el conjunto de datos de entrenamiento, lo que puede ayudar a mejorar la precisión del modelo de clasificación. Sin embargo, es importante tener en cuenta que el sobremuestreo puede generar problemas de sobreajuste."
   ]
  },
  {
   "cell_type": "code",
   "execution_count": null,
   "metadata": {
    "trusted": false
   },
   "outputs": [
    {
     "name": "stdout",
     "output_type": "stream",
     "text": [
      "F1: 0.41358811040339705\n"
     ]
    }
   ],
   "source": [
    "def downsample(features, target, fraction):\n",
    "    features_zeros = features[target == 0]\n",
    "    features_ones = features[target == 1]\n",
    "    target_zeros = target[target == 0]\n",
    "    target_ones = target[target == 1]\n",
    "\n",
    "    features_downsampled = pd.concat(\n",
    "        [features_zeros.sample(frac=fraction, random_state=12345)]\n",
    "        + [features_ones]\n",
    "    )\n",
    "    target_downsampled = pd.concat(\n",
    "        [target_zeros.sample(frac=fraction, random_state=12345)]\n",
    "        + [target_ones]\n",
    "    )\n",
    "\n",
    "    features_downsampled, target_downsampled = shuffle(\n",
    "        features_downsampled, target_downsampled, random_state=12345\n",
    "    )\n",
    "\n",
    "    return features_downsampled, target_downsampled\n",
    "\n",
    "\n",
    "features_downsampled, target_downsampled = downsample(\n",
    "    features_train, target_train, 0.1\n",
    ")\n",
    "\n",
    "model = LogisticRegression(random_state=12345, solver='liblinear')\n",
    "model.fit(features_downsampled, target_downsampled)\n",
    "predicted_valid = model.predict(features_valid)# < escribe el código aquí >\n",
    "print('F1:', f1_score(target_valid, predicted_valid))"
   ]
  },
  {
   "cell_type": "markdown",
   "metadata": {},
   "source": [
    "El modelo de regresión logística ajustado con el conjunto de datos submuestreado tiene una precisión moderada en la clasificación de las instancias del conjunto de validación. La métrica F1 de 0.41358811040339705 indica que el modelo tiene una precisión del 41.36% en la clasificación de las instancias positivas (clase 1) y una precisión del 41.36% en la clasificación de las instancias negativas (clase 0). "
   ]
  },
  {
   "cell_type": "markdown",
   "metadata": {},
   "source": [
    "### Submuestreo"
   ]
  },
  {
   "cell_type": "code",
   "execution_count": null,
   "metadata": {
    "trusted": false
   },
   "outputs": [
    {
     "name": "stdout",
     "output_type": "stream",
     "text": [
      "F1: 0.41359060402684567\n"
     ]
    }
   ],
   "source": [
    "def upsample(features, target, repeat):\n",
    "    features_zeros = features[target == 0]\n",
    "    features_ones = features[target == 1]\n",
    "    target_zeros = target[target == 0]\n",
    "    target_ones = target[target == 1]\n",
    "\n",
    "    features_upsampled = pd.concat([features_zeros] + [features_ones] * repeat)\n",
    "    target_upsampled = pd.concat([target_zeros] + [target_ones] * repeat)\n",
    "\n",
    "    features_upsampled, target_upsampled = shuffle(\n",
    "        features_upsampled, target_upsampled, random_state=12345\n",
    "    )\n",
    "\n",
    "    return features_upsampled, target_upsampled\n",
    "\n",
    "\n",
    "features_upsampled, target_upsampled = upsample(\n",
    "    features_train, target_train, 10\n",
    ")\n",
    "\n",
    "model = LogisticRegression(random_state=12345, solver='liblinear')\n",
    "model.fit(features_upsampled, target_upsampled)\n",
    "predicted_valid = model.predict(features_valid)# < escribe el código aquí >\n",
    "\n",
    "print('F1:', f1_score(target_valid, predicted_valid))"
   ]
  },
  {
   "cell_type": "markdown",
   "metadata": {},
   "source": [
    "La métrica F1 obtenida es 0.41359060402684567, que es muy similar al valor obtenido con el modelo ajustado con el conjunto de datos submuestreado (0.41358811040339705). Esto sugiere que el sobremuestreo no ha tenido un impacto significativo en la precisión del modelo."
   ]
  },
  {
   "cell_type": "markdown",
   "metadata": {},
   "source": [
    "### Curva PR"
   ]
  },
  {
   "cell_type": "code",
   "execution_count": null,
   "metadata": {
    "trusted": false
   },
   "outputs": [
    {
     "data": {
      "image/png": "[encoded data removed]",
      "text/plain": [
       "<Figure size 600x600 with 1 Axes>"
      ]
     },
     "metadata": {},
     "output_type": "display_data"
    }
   ],
   "source": [
    "\n",
    "model = LogisticRegression(random_state=12345, solver='liblinear')\n",
    "model.fit(features_train, target_train)\n",
    "\n",
    "probabilities_valid = model.predict_proba(features_valid)\n",
    "precision, recall, thresholds = precision_recall_curve(\n",
    "    target_valid, probabilities_valid[:, 1]\n",
    ")\n",
    "\n",
    "plt.figure(figsize=(6, 6))\n",
    "plt.step(recall, precision, where='post')\n",
    "plt.xlabel('Recall')\n",
    "plt.ylabel('Precision')\n",
    "plt.ylim([0.0, 1.05])\n",
    "plt.xlim([0.0, 1.0])\n",
    "plt.title('Precision-Recall Curve')\n",
    "plt.show()"
   ]
  },
  {
   "cell_type": "markdown",
   "metadata": {},
   "source": [
    "La conclusión es que el modelo de regresión logística tiene una precisión muy alta para los primeros valores de recall, pero luego disminuye rápidamente a medida que el recall aumenta."
   ]
  },
  {
   "cell_type": "markdown",
   "metadata": {},
   "source": [
    "### Curva ROC"
   ]
  },
  {
   "cell_type": "code",
   "execution_count": null,
   "metadata": {
    "trusted": false
   },
   "outputs": [
    {
     "data": {
      "image/png": "[encoded data removed]",
      "text/plain": [
       "<Figure size 640x480 with 1 Axes>"
      ]
     },
     "metadata": {},
     "output_type": "display_data"
    }
   ],
   "source": [
    "\n",
    "model = LogisticRegression(random_state=12345, solver='liblinear')\n",
    "model.fit(features_train, target_train)\n",
    "\n",
    "probabilities_valid = model.predict_proba(features_valid)\n",
    "probabilities_one_valid = probabilities_valid[:, 1]\n",
    "fpr, tpr, thresholds = roc_curve(target_valid, probabilities_one_valid)\n",
    "\n",
    "plt.figure()\n",
    "plt.plot(fpr, tpr)\n",
    "plt.plot([0, 1], [0, 1], linestyle='--')\n",
    "plt.xlim([0.0, 1.0])\n",
    "plt.ylim([0.0, 1.0])\n",
    "plt.xlabel('Tasa de falsos positivos')\n",
    "plt.ylabel('Tasa de verdaderos positivos')\n",
    "plt.title('Curva ROC')\n",
    "plt.show()"
   ]
  },
  {
   "cell_type": "markdown",
   "metadata": {},
   "source": [
    "En este caso, la curva ROC está por encima de la línea media, lo que indica que el modelo tiene un buen desempeño en la clasificación de las instancias. La curva muestra que a medida que se aumenta la tasa de verdaderos positivos, la tasa de falsos positivos también aumenta, pero a un ritmo más lento."
   ]
  },
  {
   "cell_type": "markdown",
   "metadata": {},
   "source": [
    " ### AUC-ROC"
   ]
  },
  {
   "cell_type": "code",
   "execution_count": null,
   "metadata": {
    "trusted": false
   },
   "outputs": [
    {
     "name": "stdout",
     "output_type": "stream",
     "text": [
      "0.7332819671351454\n"
     ]
    }
   ],
   "source": [
    "\n",
    "model = LogisticRegression(random_state=12345, solver='liblinear')\n",
    "model.fit(features_train, target_train)\n",
    "\n",
    "probabilities_valid = model.predict_proba(features_valid)\n",
    "probabilities_one_valid = probabilities_valid[:, 1]\n",
    "auc_roc = roc_auc_score(target_valid, probabilities_one_valid)\n",
    "\n",
    "print(auc_roc)"
   ]
  },
  {
   "cell_type": "markdown",
   "metadata": {},
   "source": [
    "La puntuación AUC-ROC es de 0.7332819671351454, lo que indica que el modelo ha logrado una buena precisión en la predicción de la probabilidad de la clase positiva."
   ]
  },
  {
   "cell_type": "markdown",
   "metadata": {},
   "source": [
    "### ECM y RECM"
   ]
  },
  {
   "cell_type": "code",
   "execution_count": null,
   "metadata": {
    "trusted": false
   },
   "outputs": [
    {
     "name": "stdout",
     "output_type": "stream",
     "text": [
      "Linear Regression\n",
      "MSE = 0.14669998514954383\n",
      "RMSE = 0.38301434065781903\n",
      "Mean\n",
      "MSE = 0.16839260444444445\n",
      "RMSE = 0.4103566795416452\n"
     ]
    }
   ],
   "source": [
    "\n",
    "target = data_ordinal['exited']\n",
    "features = data_ordinal.drop(['exited'], axis=1)\n",
    "features_train, features_valid, target_train, target_valid = train_test_split(\n",
    "    features, target, test_size=0.25, random_state=12345\n",
    ")\n",
    "\n",
    "model = LinearRegression()\n",
    "model.fit(features_train, target_train)\n",
    "predicted_valid = model.predict(features_valid)\n",
    "mse = mean_squared_error(target_valid, predicted_valid)\n",
    "\n",
    "print('Linear Regression')\n",
    "print('MSE =', mse)\n",
    "print('RMSE =', mse ** 0.5)\n",
    "\n",
    "predicted_valid = pd.Series(target_train.mean(), index=target_valid.index)\n",
    "mse = mean_squared_error(target_valid, predicted_valid)\n",
    "print('Mean')\n",
    "print('MSE =', mse)\n",
    "print('RMSE =', mse ** 0.5)"
   ]
  },
  {
   "cell_type": "markdown",
   "metadata": {},
   "source": [
    "El error cuadrático medio (MSE) del modelo de regresión lineal es de 0.14669998514954383, lo que indica que el modelo ha logrado una precisión mejor que el modelo de predicción de la media, que tiene un MSE de 0.16839260444444445.\n",
    "\n",
    "Además, la raíz cuadrada del error cuadrático medio (RMSE) del modelo de regresión lineal es de 0.38301434065781903, lo que indica que el modelo ha logrado una precisión mejor que el modelo de predicción de la media, que tiene un RMSE de 0.4103566795416452."
   ]
  },
  {
   "cell_type": "markdown",
   "metadata": {},
   "source": [
    "### Random Forest"
   ]
  },
  {
   "cell_type": "code",
   "execution_count": null,
   "metadata": {
    "trusted": false
   },
   "outputs": [
    {
     "name": "stdout",
     "output_type": "stream",
     "text": [
      "Configuración del modelo actual lograda:\n",
      "Valor R2 en un conjunto de entrenamiento 0.8474631699714181\n",
      "Valor R2 en un conjunto de validación: 0.3113994230412812\n",
      "Valor R2 en un conjunto de prueba: 0.3844265048152573\n"
     ]
    }
   ],
   "source": [
    "target = data_ordinal['exited']\n",
    "features = data_ordinal.drop(['exited'], axis=1)\n",
    "features_train, features_valid, target_train, target_valid = train_test_split(\n",
    "    features, target, test_size=0.25, random_state=12345\n",
    ")\n",
    "\n",
    "model = RandomForestRegressor(n_estimators=30, max_depth=15, random_state=12345)\n",
    "\n",
    "model.fit(features_train, target_train)\n",
    "\n",
    "print(\"Configuración del modelo actual lograda:\")\n",
    "print(\"Valor R2 en un conjunto de entrenamiento\", model.score(features_train, target_train))\n",
    "print(\"Valor R2 en un conjunto de validación:\", model.score(features_valid, target_valid))\n",
    "print(\"Valor R2 en un conjunto de prueba:\", model.score(features_test, target_test))"
   ]
  },
  {
   "cell_type": "markdown",
   "metadata": {},
   "source": [
    "### Regresión lineal"
   ]
  },
  {
   "cell_type": "code",
   "execution_count": null,
   "metadata": {
    "trusted": false
   },
   "outputs": [
    {
     "name": "stdout",
     "output_type": "stream",
     "text": [
      "\n",
      "Accuracy del modelo de regresión logística en el conjunto de entrenamiento: 0.8069333333333333\n",
      "Accuracy del modelo de regresión logística en el conjunto de validación: 0.8156\n",
      "Accuracy del modelo de regresión logística en el conjunto de prueba: 0.7966666666666666\n"
     ]
    }
   ],
   "source": [
    "#Regresión lineal\n",
    "\n",
    "df_train, df_valid = train_test_split(data_ordinal, test_size=0.25, random_state=54321)\n",
    "\n",
    "features_train = df_train.drop(['exited'], axis=1)\n",
    "target_train = df_train['exited']\n",
    "features_valid = df_valid.drop(['exited'], axis=1)\n",
    "target_valid = df_valid['exited']\n",
    "\n",
    "model = LogisticRegression(random_state=54321, solver='liblinear')\n",
    "model.fit(features_train, target_train)\n",
    "score_train = model.score(features_train, target_train)\n",
    "score_valid = model.score(features_valid, target_valid)\n",
    "score_test = model.score(features_test, target_test)\n",
    "\n",
    "print()\n",
    "print(\"Accuracy del modelo de regresión logística en el conjunto de entrenamiento:\", score_train)\n",
    "print(\"Accuracy del modelo de regresión logística en el conjunto de validación:\", score_valid)\n",
    "print(\"Accuracy del modelo de regresión logística en el conjunto de prueba:\", score_test)"
   ]
  },
  {
   "cell_type": "markdown",
   "metadata": {},
   "source": [
    "La precisión del modelo en el conjunto de entrenamiento es del 80.69%, lo que indica que el modelo ha logrado una buena precisión en la predicción de la variable objetivo en los datos de entrenamiento.\n",
    "\n",
    "La precisión del modelo en el conjunto de validación es del 81.56%, lo que indica que el modelo ha logrado una buena precisión en la predicción de la variable objetivo en los datos de validación.\n",
    "\n",
    "La precisión del modelo en el conjunto de prueba es del 79.67%, lo que indica que el modelo ha logrado una buena precisión en la predicción de la variable objetivo en los datos de prueba."
   ]
  },
  {
   "cell_type": "markdown",
   "metadata": {},
   "source": [
    "<div class=\"alert alert-block alert-success\">  \n",
    "<b>Comentario del revisor</b> <a class=\"tocSkip\"></a><br>  \n",
    "<b>Éxito</b> - Excelente enfoque en la evaluación del modelo, con un análisis claro y bien estructurado de cómo se manejó el desequilibrio de clases y las diferentes métricas de desempeño. El uso de técnicas como el sobremuestreo, el ajuste de pesos de clase y la evaluación de la curva ROC y AUC es apropiado y efectivo. Las explicaciones sobre las métricas y los modelos, como el árbol de decisión y la regresión logística, son detalladas y fáciles de seguir.  \n",
    "\n",
    "\n",
    "</div>"
   ]
  },
  {
   "cell_type": "markdown",
   "metadata": {},
   "source": [
    "## Prueba final"
   ]
  },
  {
   "cell_type": "markdown",
   "metadata": {},
   "source": [
    "### Eligiendo el mejor modelo"
   ]
  },
  {
   "cell_type": "code",
   "execution_count": null,
   "metadata": {
    "trusted": false
   },
   "outputs": [
    {
     "name": "stdout",
     "output_type": "stream",
     "text": [
      "Accuracy del modelo de regresión logística en el conjunto de prueba: 0.7953333333333333\n"
     ]
    }
   ],
   "source": [
    "#Regresión lineal\n",
    "\n",
    "features_train = data_ordinal.drop(['exited'], axis=1)\n",
    "target_train = data_ordinal['exited']\n",
    "\n",
    "model = LogisticRegression(random_state=54321, solver='liblinear')\n",
    "model.fit(features_train, target_train)\n",
    "score_test = model.score(features_test, target_test)\n",
    "\n",
    "\n",
    "print(\"Accuracy del modelo de regresión logística en el conjunto de prueba:\", score_test)"
   ]
  },
  {
   "cell_type": "markdown",
   "metadata": {},
   "source": [
    "## Conclusión"
   ]
  },
  {
   "cell_type": "markdown",
   "metadata": {},
   "source": [
    "El resultado de la función f1_score indica que el modelo tiene una puntuación F1 del 59.67% para predecir los casos en los que el cliente salió del banco, lo que sugiere que el modelo es moderadamente efectivo.\n",
    "\n",
    "Adicionalmente, se obtuvo una buena exactitud probando el modelo con regresión lineal, de acuerdo a lo siguiente:\n",
    "\n",
    "* Conjunto de entrenamiento: 0.8069\n",
    "* Conjunto de validación: 0.8156\n",
    "* Conjunto de prueba: 0.7966\n",
    "\n",
    "Por lo anterior, se concluye que el modelo es efectivo para calcular la probabilidad de que los clientes se lleven los productos contratados a otro banco."
   ]
  },
  {
   "cell_type": "markdown",
   "metadata": {},
   "source": [
    "<div class=\"alert alert-block alert-success\">  \n",
    "<b>Comentario del revisor</b> <a class=\"tocSkip\"></a><br>  \n",
    "<b>Éxito</b> - Buen trabajo al evaluar el modelo final y calcular el rendimiento en los diferentes conjuntos de datos. Has logrado alcanzar un buen equilibrio en la precisión del modelo con la regresión logística, y la puntuación F1 de 59.67% cumple con el umbral establecido. Los resultados de los diferentes conjuntos muestran una buena consistencia, lo que respalda la efectividad del modelo para predecir la retención de clientes.  \n",
    "\n",
    "\n",
    "</div>"
   ]
  },
  {
   "cell_type": "markdown",
   "metadata": {},
   "source": [
    "# Comentario general del revisor"
   ]
  },
  {
   "cell_type": "markdown",
   "metadata": {},
   "source": [
    "<div class=\"alert alert-block alert-success\">  \n",
    "<b>Comentario del revisor</b> <a class=\"tocSkip\"></a>  \n",
    "\n",
    "¡Felicidades Jonathan! Tu proyecto está **aprobado**. Has realizado un excelente trabajo al abordar el problema de predicción de la retención de clientes de forma estructurada y meticulosa.  \n",
    "\n",
    "**Puntos Positivos:**  \n",
    "- **Manejo de los datos:** El proceso de limpieza y preparación de datos está muy bien hecho, asegurando que el modelo reciba información correcta y estructurada.  \n",
    "- **Evaluación de modelos:** Has probado diferentes enfoques (como regresión logística y árbol de decisión) y has usado técnicas adecuadas para tratar el desequilibrio de clases.  \n",
    "- **Métricas claras y detalladas:** Tus explicaciones sobre las métricas (precisión, recall, F1, AUC-ROC) y cómo afectan la calidad del modelo son claras y bien fundamentadas.  \n",
    "\n",
    "**Áreas para seguir investigando:**  \n",
    "- **Tuning de parámetros:** Aunque los resultados son buenos, explorar la optimización de los parámetros de los modelos (como la búsqueda en cuadrícula) podría mejorar aún más la precisión.  \n",
    "- **Manejo de características:** Puedes seguir investigando el uso de técnicas de ingeniería de características, como la creación de nuevas variables basadas en las existentes, para aumentar la capacidad predictiva.  \n",
    "\n",
    "¡Sigue aplicando este enfoque analítico y mejorando tus habilidades en modelos predictivos!  \n",
    "</div>"
   ]
  },
  {
   "cell_type": "code",
   "execution_count": null,
   "metadata": {
    "trusted": false
   },
   "outputs": [],
   "source": []
  }
 ],
 "metadata": {
  "ExecuteTimeLog": [
   {
    "duration": 3,
    "start_time": "2025-02-03T18:00:19.603Z"
   },
   {
    "duration": 766,
    "start_time": "2025-02-03T18:01:09.881Z"
   },
   {
    "duration": 26,
    "start_time": "2025-02-03T18:02:10.962Z"
   },
   {
    "duration": 12,
    "start_time": "2025-02-03T18:02:29.019Z"
   },
   {
    "duration": 218,
    "start_time": "2025-02-03T18:11:18.466Z"
   },
   {
    "duration": 14,
    "start_time": "2025-02-03T18:11:49.648Z"
   },
   {
    "duration": 10,
    "start_time": "2025-02-03T18:11:50.046Z"
   },
   {
    "duration": 11,
    "start_time": "2025-02-03T18:11:51.234Z"
   },
   {
    "duration": 7,
    "start_time": "2025-02-03T18:13:21.670Z"
   },
   {
    "duration": 534,
    "start_time": "2025-02-03T18:14:42.749Z"
   },
   {
    "duration": 14,
    "start_time": "2025-02-03T18:16:33.735Z"
   },
   {
    "duration": 7,
    "start_time": "2025-02-03T18:16:46.076Z"
   },
   {
    "duration": 4,
    "start_time": "2025-02-03T18:18:10.475Z"
   },
   {
    "duration": 4,
    "start_time": "2025-02-03T18:18:18.510Z"
   },
   {
    "duration": 4,
    "start_time": "2025-02-03T18:19:38.388Z"
   },
   {
    "duration": 10,
    "start_time": "2025-02-03T18:19:56.679Z"
   },
   {
    "duration": 6,
    "start_time": "2025-02-03T18:20:02.271Z"
   },
   {
    "duration": 3,
    "start_time": "2025-02-03T18:21:39.579Z"
   },
   {
    "duration": 6,
    "start_time": "2025-02-03T18:21:40.977Z"
   },
   {
    "duration": 9,
    "start_time": "2025-02-03T18:22:14.604Z"
   },
   {
    "duration": 15,
    "start_time": "2025-02-03T18:31:28.823Z"
   },
   {
    "duration": 8,
    "start_time": "2025-02-03T18:31:33.384Z"
   },
   {
    "duration": 23,
    "start_time": "2025-02-03T18:39:47.912Z"
   },
   {
    "duration": 36,
    "start_time": "2025-02-03T18:40:18.633Z"
   },
   {
    "duration": 33,
    "start_time": "2025-02-03T18:42:24.245Z"
   },
   {
    "duration": 9,
    "start_time": "2025-02-03T18:42:28.651Z"
   },
   {
    "duration": 32,
    "start_time": "2025-02-03T18:42:31.743Z"
   },
   {
    "duration": 15,
    "start_time": "2025-02-03T18:45:10.191Z"
   },
   {
    "duration": 32,
    "start_time": "2025-02-03T18:45:15.643Z"
   },
   {
    "duration": 34,
    "start_time": "2025-02-03T18:47:05.912Z"
   },
   {
    "duration": 17,
    "start_time": "2025-02-03T18:49:42.264Z"
   },
   {
    "duration": 17,
    "start_time": "2025-02-03T18:50:28.969Z"
   },
   {
    "duration": 3,
    "start_time": "2025-02-03T18:50:49.597Z"
   },
   {
    "duration": 16,
    "start_time": "2025-02-03T18:50:50.470Z"
   },
   {
    "duration": 9,
    "start_time": "2025-02-03T18:50:50.632Z"
   },
   {
    "duration": 7,
    "start_time": "2025-02-03T18:50:51.526Z"
   },
   {
    "duration": 6,
    "start_time": "2025-02-03T18:50:52.932Z"
   },
   {
    "duration": 3,
    "start_time": "2025-02-03T18:50:54.229Z"
   },
   {
    "duration": 4,
    "start_time": "2025-02-03T18:50:55.485Z"
   },
   {
    "duration": 8,
    "start_time": "2025-02-03T18:50:55.900Z"
   },
   {
    "duration": 10,
    "start_time": "2025-02-03T18:50:56.965Z"
   },
   {
    "duration": 8,
    "start_time": "2025-02-03T18:50:58.922Z"
   },
   {
    "duration": 92,
    "start_time": "2025-02-03T18:51:00.072Z"
   },
   {
    "duration": 35,
    "start_time": "2025-02-03T18:51:37.701Z"
   },
   {
    "duration": 35,
    "start_time": "2025-02-03T18:51:52.321Z"
   },
   {
    "duration": 32,
    "start_time": "2025-02-03T18:52:00.233Z"
   },
   {
    "duration": 144,
    "start_time": "2025-02-03T18:52:42.052Z"
   },
   {
    "duration": 15,
    "start_time": "2025-02-03T18:54:29.306Z"
   },
   {
    "duration": 16,
    "start_time": "2025-02-03T18:54:45.686Z"
   },
   {
    "duration": 32,
    "start_time": "2025-02-03T18:54:54.711Z"
   },
   {
    "duration": 32,
    "start_time": "2025-02-03T18:57:03.703Z"
   },
   {
    "duration": 65,
    "start_time": "2025-02-03T18:57:25.736Z"
   },
   {
    "duration": 64,
    "start_time": "2025-02-03T18:58:14.579Z"
   },
   {
    "duration": 6,
    "start_time": "2025-02-03T18:59:20.707Z"
   },
   {
    "duration": 2066,
    "start_time": "2025-02-03T19:00:14.135Z"
   },
   {
    "duration": 7,
    "start_time": "2025-02-03T19:03:08.649Z"
   },
   {
    "duration": 33,
    "start_time": "2025-02-03T19:08:29.956Z"
   },
   {
    "duration": 6,
    "start_time": "2025-02-03T19:13:54.943Z"
   },
   {
    "duration": 149,
    "start_time": "2025-02-03T19:16:09.160Z"
   },
   {
    "duration": 7,
    "start_time": "2025-02-03T19:16:56.796Z"
   },
   {
    "duration": 4,
    "start_time": "2025-02-03T19:20:27.332Z"
   },
   {
    "duration": 61,
    "start_time": "2025-02-03T19:20:39.084Z"
   },
   {
    "duration": 4,
    "start_time": "2025-02-03T19:24:31.705Z"
   },
   {
    "duration": 62,
    "start_time": "2025-02-03T19:25:06.341Z"
   },
   {
    "duration": 61,
    "start_time": "2025-02-03T19:32:31.256Z"
   },
   {
    "duration": 81,
    "start_time": "2025-02-03T19:36:28.046Z"
   },
   {
    "duration": 59,
    "start_time": "2025-02-03T19:36:53.752Z"
   },
   {
    "duration": 61,
    "start_time": "2025-02-03T19:36:56.067Z"
   },
   {
    "duration": 4,
    "start_time": "2025-02-03T19:37:03.758Z"
   },
   {
    "duration": 15,
    "start_time": "2025-02-03T19:37:04.074Z"
   },
   {
    "duration": 10,
    "start_time": "2025-02-03T19:37:04.234Z"
   },
   {
    "duration": 8,
    "start_time": "2025-02-03T19:37:04.708Z"
   },
   {
    "duration": 5,
    "start_time": "2025-02-03T19:37:05.026Z"
   },
   {
    "duration": 3,
    "start_time": "2025-02-03T19:37:05.479Z"
   },
   {
    "duration": 4,
    "start_time": "2025-02-03T19:37:05.941Z"
   },
   {
    "duration": 6,
    "start_time": "2025-02-03T19:37:06.118Z"
   },
   {
    "duration": 10,
    "start_time": "2025-02-03T19:37:06.619Z"
   },
   {
    "duration": 8,
    "start_time": "2025-02-03T19:37:07.348Z"
   },
   {
    "duration": 33,
    "start_time": "2025-02-03T19:37:07.868Z"
   },
   {
    "duration": 64,
    "start_time": "2025-02-03T19:37:08.217Z"
   },
   {
    "duration": 65,
    "start_time": "2025-02-03T19:37:08.561Z"
   },
   {
    "duration": 8,
    "start_time": "2025-02-03T19:37:09.095Z"
   },
   {
    "duration": 146,
    "start_time": "2025-02-03T19:37:09.440Z"
   },
   {
    "duration": 5,
    "start_time": "2025-02-03T19:37:10.523Z"
   },
   {
    "duration": 63,
    "start_time": "2025-02-03T19:38:35.803Z"
   },
   {
    "duration": 61,
    "start_time": "2025-02-03T19:38:37.521Z"
   },
   {
    "duration": 59,
    "start_time": "2025-02-03T19:38:39.521Z"
   },
   {
    "duration": 72,
    "start_time": "2025-02-03T19:38:49.358Z"
   },
   {
    "duration": 3,
    "start_time": "2025-02-03T19:39:17.700Z"
   },
   {
    "duration": 16,
    "start_time": "2025-02-03T19:39:19.332Z"
   },
   {
    "duration": 10,
    "start_time": "2025-02-03T19:39:19.479Z"
   },
   {
    "duration": 7,
    "start_time": "2025-02-03T19:39:19.911Z"
   },
   {
    "duration": 6,
    "start_time": "2025-02-03T19:39:20.178Z"
   },
   {
    "duration": 4,
    "start_time": "2025-02-03T19:39:20.460Z"
   },
   {
    "duration": 3,
    "start_time": "2025-02-03T19:39:21.055Z"
   },
   {
    "duration": 7,
    "start_time": "2025-02-03T19:39:21.222Z"
   },
   {
    "duration": 9,
    "start_time": "2025-02-03T19:39:21.526Z"
   },
   {
    "duration": 9,
    "start_time": "2025-02-03T19:39:22.182Z"
   },
   {
    "duration": 32,
    "start_time": "2025-02-03T19:39:22.669Z"
   },
   {
    "duration": 62,
    "start_time": "2025-02-03T19:39:23.018Z"
   },
   {
    "duration": 64,
    "start_time": "2025-02-03T19:39:23.339Z"
   },
   {
    "duration": 6,
    "start_time": "2025-02-03T19:39:24.067Z"
   },
   {
    "duration": 146,
    "start_time": "2025-02-03T19:39:24.873Z"
   },
   {
    "duration": 6,
    "start_time": "2025-02-03T19:39:26.446Z"
   },
   {
    "duration": 61,
    "start_time": "2025-02-03T19:39:29.635Z"
   },
   {
    "duration": 62,
    "start_time": "2025-02-03T19:39:31.550Z"
   },
   {
    "duration": 63,
    "start_time": "2025-02-03T19:39:33.959Z"
   },
   {
    "duration": 4,
    "start_time": "2025-02-03T19:42:09.098Z"
   },
   {
    "duration": 63,
    "start_time": "2025-02-03T19:42:37.511Z"
   },
   {
    "duration": 5,
    "start_time": "2025-02-03T19:43:23.457Z"
   },
   {
    "duration": 5,
    "start_time": "2025-02-03T19:46:13.243Z"
   },
   {
    "duration": 67,
    "start_time": "2025-02-03T19:49:45.169Z"
   },
   {
    "duration": 178,
    "start_time": "2025-02-03T19:51:21.455Z"
   },
   {
    "duration": 66,
    "start_time": "2025-02-03T19:51:26.128Z"
   },
   {
    "duration": 31,
    "start_time": "2025-02-03T19:53:22.160Z"
   },
   {
    "duration": 4,
    "start_time": "2025-02-03T19:53:50.008Z"
   },
   {
    "duration": 148,
    "start_time": "2025-02-03T19:53:57.409Z"
   },
   {
    "duration": 434,
    "start_time": "2025-02-03T19:55:16.181Z"
   },
   {
    "duration": 1318,
    "start_time": "2025-02-03T19:55:25.531Z"
   },
   {
    "duration": 1252,
    "start_time": "2025-02-03T19:55:28.615Z"
   },
   {
    "duration": 144,
    "start_time": "2025-02-03T19:57:43.726Z"
   },
   {
    "duration": 280,
    "start_time": "2025-02-03T19:59:18.843Z"
   },
   {
    "duration": 5,
    "start_time": "2025-02-03T19:59:19.126Z"
   },
   {
    "duration": 80,
    "start_time": "2025-02-03T19:59:19.132Z"
   },
   {
    "duration": 11,
    "start_time": "2025-02-03T19:59:19.214Z"
   },
   {
    "duration": 6,
    "start_time": "2025-02-03T19:59:19.227Z"
   },
   {
    "duration": 7,
    "start_time": "2025-02-03T19:59:19.234Z"
   },
   {
    "duration": 2,
    "start_time": "2025-02-03T19:59:19.245Z"
   },
   {
    "duration": 3,
    "start_time": "2025-02-03T19:59:19.249Z"
   },
   {
    "duration": 6,
    "start_time": "2025-02-03T19:59:19.309Z"
   },
   {
    "duration": 10,
    "start_time": "2025-02-03T19:59:19.316Z"
   },
   {
    "duration": 7,
    "start_time": "2025-02-03T19:59:19.327Z"
   },
   {
    "duration": 33,
    "start_time": "2025-02-03T19:59:19.336Z"
   },
   {
    "duration": 94,
    "start_time": "2025-02-03T19:59:19.371Z"
   },
   {
    "duration": 68,
    "start_time": "2025-02-03T19:59:19.467Z"
   },
   {
    "duration": 5,
    "start_time": "2025-02-03T19:59:19.536Z"
   },
   {
    "duration": 154,
    "start_time": "2025-02-03T19:59:19.543Z"
   },
   {
    "duration": 13,
    "start_time": "2025-02-03T19:59:19.699Z"
   },
   {
    "duration": 67,
    "start_time": "2025-02-03T19:59:19.714Z"
   },
   {
    "duration": 76,
    "start_time": "2025-02-03T19:59:19.784Z"
   },
   {
    "duration": 77,
    "start_time": "2025-02-03T19:59:19.863Z"
   },
   {
    "duration": 62,
    "start_time": "2025-02-03T19:59:20.317Z"
   },
   {
    "duration": 67,
    "start_time": "2025-02-03T19:59:20.810Z"
   },
   {
    "duration": 139,
    "start_time": "2025-02-03T19:59:21.317Z"
   },
   {
    "duration": 26,
    "start_time": "2025-02-03T20:01:17.082Z"
   },
   {
    "duration": 33,
    "start_time": "2025-02-03T20:02:27.931Z"
   },
   {
    "duration": 53,
    "start_time": "2025-02-03T20:02:35.401Z"
   },
   {
    "duration": 32,
    "start_time": "2025-02-03T20:02:41.250Z"
   },
   {
    "duration": 41,
    "start_time": "2025-02-03T20:02:46.020Z"
   },
   {
    "duration": 41,
    "start_time": "2025-02-03T20:02:50.035Z"
   },
   {
    "duration": 29,
    "start_time": "2025-02-03T20:02:55.998Z"
   },
   {
    "duration": 24,
    "start_time": "2025-02-03T20:02:59.852Z"
   },
   {
    "duration": 62,
    "start_time": "2025-02-03T20:04:36.868Z"
   },
   {
    "duration": 198,
    "start_time": "2025-02-03T20:05:57.325Z"
   },
   {
    "duration": 77,
    "start_time": "2025-02-03T20:09:05.136Z"
   },
   {
    "duration": 6,
    "start_time": "2025-02-03T20:09:48.193Z"
   },
   {
    "duration": 277,
    "start_time": "2025-02-03T20:09:53.403Z"
   },
   {
    "duration": 162,
    "start_time": "2025-02-03T20:11:06.556Z"
   },
   {
    "duration": 4,
    "start_time": "2025-02-03T20:11:29.432Z"
   },
   {
    "duration": 269,
    "start_time": "2025-02-03T20:11:39.561Z"
   },
   {
    "duration": 129,
    "start_time": "2025-02-03T20:12:51.598Z"
   },
   {
    "duration": 5,
    "start_time": "2025-02-03T20:13:12.970Z"
   },
   {
    "duration": 67,
    "start_time": "2025-02-03T20:13:17.914Z"
   },
   {
    "duration": 31,
    "start_time": "2025-02-03T20:17:58.511Z"
   },
   {
    "duration": 47,
    "start_time": "2025-02-03T20:18:05.635Z"
   },
   {
    "duration": 29,
    "start_time": "2025-02-03T20:18:11.958Z"
   },
   {
    "duration": 31,
    "start_time": "2025-02-03T20:18:16.596Z"
   },
   {
    "duration": 32,
    "start_time": "2025-02-03T20:18:21.179Z"
   },
   {
    "duration": 31,
    "start_time": "2025-02-03T20:18:28.608Z"
   },
   {
    "duration": 61,
    "start_time": "2025-02-03T20:20:03.808Z"
   },
   {
    "duration": 56,
    "start_time": "2025-02-03T20:20:11.719Z"
   },
   {
    "duration": 71,
    "start_time": "2025-02-03T20:20:19.969Z"
   },
   {
    "duration": 50,
    "start_time": "2025-02-03T20:20:21.068Z"
   },
   {
    "duration": 16,
    "start_time": "2025-02-03T20:23:16.201Z"
   },
   {
    "duration": 62,
    "start_time": "2025-02-03T20:23:42.510Z"
   },
   {
    "duration": 33,
    "start_time": "2025-02-03T20:26:54.172Z"
   },
   {
    "duration": 30,
    "start_time": "2025-02-03T20:29:34.176Z"
   },
   {
    "duration": 29,
    "start_time": "2025-02-03T20:29:38.194Z"
   },
   {
    "duration": 33,
    "start_time": "2025-02-03T20:30:06.846Z"
   },
   {
    "duration": 4,
    "start_time": "2025-02-03T20:30:14.556Z"
   },
   {
    "duration": 15,
    "start_time": "2025-02-03T20:30:14.867Z"
   },
   {
    "duration": 10,
    "start_time": "2025-02-03T20:30:15.048Z"
   },
   {
    "duration": 7,
    "start_time": "2025-02-03T20:30:15.580Z"
   },
   {
    "duration": 8,
    "start_time": "2025-02-03T20:30:15.932Z"
   },
   {
    "duration": 3,
    "start_time": "2025-02-03T20:30:16.301Z"
   },
   {
    "duration": 4,
    "start_time": "2025-02-03T20:30:16.821Z"
   },
   {
    "duration": 6,
    "start_time": "2025-02-03T20:30:16.990Z"
   },
   {
    "duration": 11,
    "start_time": "2025-02-03T20:30:17.358Z"
   },
   {
    "duration": 8,
    "start_time": "2025-02-03T20:30:18.080Z"
   },
   {
    "duration": 32,
    "start_time": "2025-02-03T20:30:18.632Z"
   },
   {
    "duration": 62,
    "start_time": "2025-02-03T20:30:19.687Z"
   },
   {
    "duration": 64,
    "start_time": "2025-02-03T20:30:20.720Z"
   },
   {
    "duration": 6,
    "start_time": "2025-02-03T20:30:40.309Z"
   },
   {
    "duration": 148,
    "start_time": "2025-02-03T20:30:41.572Z"
   },
   {
    "duration": 6,
    "start_time": "2025-02-03T20:30:43.727Z"
   },
   {
    "duration": 62,
    "start_time": "2025-02-03T20:30:48.394Z"
   },
   {
    "duration": 61,
    "start_time": "2025-02-03T20:30:50.470Z"
   },
   {
    "duration": 62,
    "start_time": "2025-02-03T20:30:52.873Z"
   },
   {
    "duration": 8,
    "start_time": "2025-02-03T20:32:22.830Z"
   },
   {
    "duration": 26,
    "start_time": "2025-02-03T20:33:48.501Z"
   },
   {
    "duration": 6,
    "start_time": "2025-02-03T20:34:20.066Z"
   },
   {
    "duration": 28,
    "start_time": "2025-02-03T20:34:34.038Z"
   },
   {
    "duration": 4,
    "start_time": "2025-02-03T20:34:49.143Z"
   },
   {
    "duration": 15,
    "start_time": "2025-02-03T20:34:49.427Z"
   },
   {
    "duration": 10,
    "start_time": "2025-02-03T20:34:49.559Z"
   },
   {
    "duration": 8,
    "start_time": "2025-02-03T20:34:49.998Z"
   },
   {
    "duration": 6,
    "start_time": "2025-02-03T20:34:50.287Z"
   },
   {
    "duration": 3,
    "start_time": "2025-02-03T20:34:50.585Z"
   },
   {
    "duration": 4,
    "start_time": "2025-02-03T20:34:51.041Z"
   },
   {
    "duration": 6,
    "start_time": "2025-02-03T20:34:51.198Z"
   },
   {
    "duration": 10,
    "start_time": "2025-02-03T20:34:51.527Z"
   },
   {
    "duration": 9,
    "start_time": "2025-02-03T20:34:52.167Z"
   },
   {
    "duration": 33,
    "start_time": "2025-02-03T20:34:53.675Z"
   },
   {
    "duration": 62,
    "start_time": "2025-02-03T20:34:54.951Z"
   },
   {
    "duration": 65,
    "start_time": "2025-02-03T20:34:56.327Z"
   },
   {
    "duration": 6,
    "start_time": "2025-02-03T20:35:02.325Z"
   },
   {
    "duration": 145,
    "start_time": "2025-02-03T20:35:03.926Z"
   },
   {
    "duration": 6,
    "start_time": "2025-02-03T20:35:05.909Z"
   },
   {
    "duration": 61,
    "start_time": "2025-02-03T20:35:17.021Z"
   },
   {
    "duration": 62,
    "start_time": "2025-02-03T20:35:21.642Z"
   },
   {
    "duration": 62,
    "start_time": "2025-02-03T20:35:24.237Z"
   },
   {
    "duration": 62,
    "start_time": "2025-02-03T20:35:26.550Z"
   },
   {
    "duration": 40,
    "start_time": "2025-02-03T20:35:32.081Z"
   },
   {
    "duration": 70,
    "start_time": "2025-02-03T20:35:33.712Z"
   },
   {
    "duration": 144,
    "start_time": "2025-02-03T20:35:35.089Z"
   },
   {
    "duration": 43,
    "start_time": "2025-02-03T20:35:36.695Z"
   },
   {
    "duration": 178,
    "start_time": "2025-02-03T20:35:38.241Z"
   },
   {
    "duration": 252,
    "start_time": "2025-02-03T20:35:45.827Z"
   },
   {
    "duration": 61,
    "start_time": "2025-02-03T20:35:46.766Z"
   },
   {
    "duration": 16,
    "start_time": "2025-02-03T20:35:48.208Z"
   },
   {
    "duration": 17,
    "start_time": "2025-02-03T20:37:13.504Z"
   },
   {
    "duration": 31,
    "start_time": "2025-02-03T20:37:24.778Z"
   },
   {
    "duration": 58,
    "start_time": "2025-02-03T20:38:10.407Z"
   },
   {
    "duration": 30,
    "start_time": "2025-02-03T20:39:58.422Z"
   },
   {
    "duration": 620,
    "start_time": "2025-02-03T20:40:30.720Z"
   },
   {
    "duration": 29,
    "start_time": "2025-02-03T20:40:43.122Z"
   },
   {
    "duration": 29,
    "start_time": "2025-02-03T20:42:30.933Z"
   },
   {
    "duration": 29,
    "start_time": "2025-02-03T20:42:32.709Z"
   },
   {
    "duration": 31,
    "start_time": "2025-02-03T20:42:50.998Z"
   },
   {
    "duration": 33,
    "start_time": "2025-02-03T20:44:46.308Z"
   },
   {
    "duration": 66,
    "start_time": "2025-02-03T20:45:29.852Z"
   },
   {
    "duration": 10,
    "start_time": "2025-02-03T20:46:59.385Z"
   },
   {
    "duration": 18,
    "start_time": "2025-02-03T20:48:19.990Z"
   },
   {
    "duration": 31,
    "start_time": "2025-02-03T20:48:47.530Z"
   },
   {
    "duration": 61,
    "start_time": "2025-02-03T20:50:54.237Z"
   },
   {
    "duration": 62,
    "start_time": "2025-02-03T20:51:02.818Z"
   },
   {
    "duration": 62,
    "start_time": "2025-02-03T20:51:08.095Z"
   },
   {
    "duration": 28,
    "start_time": "2025-02-03T20:55:55.669Z"
   },
   {
    "duration": 93,
    "start_time": "2025-02-03T20:59:26.509Z"
   },
   {
    "duration": 150,
    "start_time": "2025-02-03T21:01:19.764Z"
   },
   {
    "duration": 120,
    "start_time": "2025-02-03T21:04:39.098Z"
   },
   {
    "duration": 63,
    "start_time": "2025-02-03T21:05:12.279Z"
   },
   {
    "duration": 16,
    "start_time": "2025-02-03T21:06:06.807Z"
   },
   {
    "duration": 64,
    "start_time": "2025-02-03T21:06:12.695Z"
   },
   {
    "duration": 29,
    "start_time": "2025-02-03T21:07:59.705Z"
   },
   {
    "duration": 4,
    "start_time": "2025-02-03T21:08:19.710Z"
   },
   {
    "duration": 31,
    "start_time": "2025-02-03T21:08:36.352Z"
   },
   {
    "duration": 17,
    "start_time": "2025-02-03T21:09:18.176Z"
   },
   {
    "duration": 525,
    "start_time": "2025-02-03T21:09:26.748Z"
   },
   {
    "duration": 33,
    "start_time": "2025-02-03T21:09:56.732Z"
   },
   {
    "duration": 232,
    "start_time": "2025-02-03T21:15:22.149Z"
   },
   {
    "duration": 62,
    "start_time": "2025-02-03T21:15:26.188Z"
   },
   {
    "duration": 4,
    "start_time": "2025-02-03T21:18:42.553Z"
   },
   {
    "duration": 65,
    "start_time": "2025-02-03T21:18:51.950Z"
   },
   {
    "duration": 195,
    "start_time": "2025-02-03T21:19:22.034Z"
   },
   {
    "duration": 90,
    "start_time": "2025-02-03T21:19:27.732Z"
   },
   {
    "duration": 98,
    "start_time": "2025-02-03T21:19:31.320Z"
   },
   {
    "duration": 153,
    "start_time": "2025-02-03T21:19:36.856Z"
   },
   {
    "duration": 25,
    "start_time": "2025-02-03T21:19:41.844Z"
   },
   {
    "duration": 33,
    "start_time": "2025-02-03T21:19:45.456Z"
   },
   {
    "duration": 35,
    "start_time": "2025-02-03T21:19:51.387Z"
   },
   {
    "duration": 43,
    "start_time": "2025-02-03T21:19:55.583Z"
   },
   {
    "duration": 40,
    "start_time": "2025-02-03T21:19:59.197Z"
   },
   {
    "duration": 25,
    "start_time": "2025-02-03T21:20:03.902Z"
   },
   {
    "duration": 34,
    "start_time": "2025-02-03T21:20:08.963Z"
   },
   {
    "duration": 32,
    "start_time": "2025-02-03T21:20:13.911Z"
   },
   {
    "duration": 205,
    "start_time": "2025-02-03T21:20:27.617Z"
   },
   {
    "duration": 29,
    "start_time": "2025-02-03T21:26:25.732Z"
   },
   {
    "duration": 2749,
    "start_time": "2025-02-04T00:08:37.248Z"
   },
   {
    "duration": 28,
    "start_time": "2025-02-04T00:08:39.999Z"
   },
   {
    "duration": 271,
    "start_time": "2025-02-04T00:08:40.029Z"
   },
   {
    "duration": 0,
    "start_time": "2025-02-04T00:08:40.305Z"
   },
   {
    "duration": 0,
    "start_time": "2025-02-04T00:08:40.306Z"
   },
   {
    "duration": 0,
    "start_time": "2025-02-04T00:08:40.308Z"
   },
   {
    "duration": 0,
    "start_time": "2025-02-04T00:08:40.309Z"
   },
   {
    "duration": 0,
    "start_time": "2025-02-04T00:08:40.310Z"
   },
   {
    "duration": 0,
    "start_time": "2025-02-04T00:08:40.311Z"
   },
   {
    "duration": 627,
    "start_time": "2025-02-04T00:08:40.614Z"
   },
   {
    "duration": 0,
    "start_time": "2025-02-04T00:08:41.242Z"
   },
   {
    "duration": 20,
    "start_time": "2025-02-04T00:08:41.515Z"
   },
   {
    "duration": 40,
    "start_time": "2025-02-04T00:08:49.294Z"
   },
   {
    "duration": 5,
    "start_time": "2025-02-04T00:09:01.083Z"
   },
   {
    "duration": 15,
    "start_time": "2025-02-04T00:09:02.034Z"
   },
   {
    "duration": 13,
    "start_time": "2025-02-04T00:09:02.591Z"
   },
   {
    "duration": 12,
    "start_time": "2025-02-04T00:09:10.593Z"
   },
   {
    "duration": 8,
    "start_time": "2025-02-04T00:09:13.744Z"
   },
   {
    "duration": 5,
    "start_time": "2025-02-04T00:09:15.305Z"
   },
   {
    "duration": 3,
    "start_time": "2025-02-04T00:09:16.780Z"
   },
   {
    "duration": 3,
    "start_time": "2025-02-04T00:09:18.373Z"
   },
   {
    "duration": 6,
    "start_time": "2025-02-04T00:09:18.982Z"
   },
   {
    "duration": 10,
    "start_time": "2025-02-04T00:09:21.418Z"
   },
   {
    "duration": 8,
    "start_time": "2025-02-04T00:09:24.469Z"
   },
   {
    "duration": 29,
    "start_time": "2025-02-04T00:09:27.866Z"
   },
   {
    "duration": 27,
    "start_time": "2025-02-04T00:09:55.279Z"
   },
   {
    "duration": 61,
    "start_time": "2025-02-04T00:09:56.517Z"
   },
   {
    "duration": 63,
    "start_time": "2025-02-04T00:10:01.988Z"
   },
   {
    "duration": 5,
    "start_time": "2025-02-04T00:10:05.480Z"
   },
   {
    "duration": 157,
    "start_time": "2025-02-04T00:10:07.009Z"
   },
   {
    "duration": 5,
    "start_time": "2025-02-04T00:10:22.320Z"
   },
   {
    "duration": 63,
    "start_time": "2025-02-04T00:10:24.462Z"
   },
   {
    "duration": 68,
    "start_time": "2025-02-04T00:10:29.367Z"
   },
   {
    "duration": 63,
    "start_time": "2025-02-04T00:10:32.290Z"
   },
   {
    "duration": 61,
    "start_time": "2025-02-04T00:10:36.323Z"
   },
   {
    "duration": 65,
    "start_time": "2025-02-04T00:10:38.185Z"
   },
   {
    "duration": 144,
    "start_time": "2025-02-04T00:10:39.330Z"
   },
   {
    "duration": 31,
    "start_time": "2025-02-04T00:10:40.748Z"
   },
   {
    "duration": 234,
    "start_time": "2025-02-04T00:10:42.178Z"
   },
   {
    "duration": 279,
    "start_time": "2025-02-04T00:10:44.355Z"
   },
   {
    "duration": 61,
    "start_time": "2025-02-04T00:10:46.122Z"
   },
   {
    "duration": 7,
    "start_time": "2025-02-04T00:17:40.048Z"
   },
   {
    "duration": 6,
    "start_time": "2025-02-04T00:17:47.487Z"
   },
   {
    "duration": 71,
    "start_time": "2025-02-04T00:23:09.846Z"
   },
   {
    "duration": 63,
    "start_time": "2025-02-04T00:23:13.030Z"
   },
   {
    "duration": 72,
    "start_time": "2025-02-04T00:23:17.591Z"
   },
   {
    "duration": 72,
    "start_time": "2025-02-04T00:26:51.185Z"
   },
   {
    "duration": 5,
    "start_time": "2025-02-04T00:28:37.353Z"
   },
   {
    "duration": 7,
    "start_time": "2025-02-04T00:28:43.137Z"
   },
   {
    "duration": 265,
    "start_time": "2025-02-04T00:31:31.862Z"
   },
   {
    "duration": 5,
    "start_time": "2025-02-04T00:31:59.349Z"
   },
   {
    "duration": 24,
    "start_time": "2025-02-04T00:32:09.264Z"
   },
   {
    "duration": 66,
    "start_time": "2025-02-04T00:33:05.191Z"
   },
   {
    "duration": 687,
    "start_time": "2025-02-04T00:34:55.162Z"
   },
   {
    "duration": 192,
    "start_time": "2025-02-04T00:35:02.078Z"
   },
   {
    "duration": 145,
    "start_time": "2025-02-04T00:35:06.861Z"
   },
   {
    "duration": 7,
    "start_time": "2025-02-04T00:36:05.359Z"
   },
   {
    "duration": 18,
    "start_time": "2025-02-04T00:37:35.325Z"
   },
   {
    "duration": 146,
    "start_time": "2025-02-04T00:38:10.690Z"
   },
   {
    "duration": 180,
    "start_time": "2025-02-04T00:39:08.299Z"
   },
   {
    "duration": 25,
    "start_time": "2025-02-04T00:40:14.632Z"
   },
   {
    "duration": 39,
    "start_time": "2025-02-04T00:40:26.599Z"
   },
   {
    "duration": 57,
    "start_time": "2025-02-04T00:40:30.434Z"
   },
   {
    "duration": 55,
    "start_time": "2025-02-04T00:40:34.630Z"
   },
   {
    "duration": 29,
    "start_time": "2025-02-04T00:40:39.623Z"
   },
   {
    "duration": 24,
    "start_time": "2025-02-04T00:40:43.545Z"
   },
   {
    "duration": 22,
    "start_time": "2025-02-04T00:40:47.504Z"
   },
   {
    "duration": 24,
    "start_time": "2025-02-04T00:40:52.146Z"
   },
   {
    "duration": 120,
    "start_time": "2025-02-04T00:41:54.288Z"
   },
   {
    "duration": 28,
    "start_time": "2025-02-04T00:42:42.432Z"
   },
   {
    "duration": 24,
    "start_time": "2025-02-04T00:42:47.931Z"
   },
   {
    "duration": 272,
    "start_time": "2025-02-04T00:44:46.448Z"
   },
   {
    "duration": 125,
    "start_time": "2025-02-04T00:50:18.865Z"
   },
   {
    "duration": 8,
    "start_time": "2025-02-04T00:51:15.621Z"
   },
   {
    "duration": 38,
    "start_time": "2025-02-04T00:56:15.545Z"
   },
   {
    "duration": 16,
    "start_time": "2025-02-04T00:56:33.616Z"
   },
   {
    "duration": 18,
    "start_time": "2025-02-04T00:59:07.165Z"
   },
   {
    "duration": 19,
    "start_time": "2025-02-04T00:59:14.031Z"
   },
   {
    "duration": 4,
    "start_time": "2025-02-04T00:59:51.967Z"
   },
   {
    "duration": 63,
    "start_time": "2025-02-04T00:59:58.142Z"
   },
   {
    "duration": 57,
    "start_time": "2025-02-04T01:04:07.760Z"
   },
   {
    "duration": 4,
    "start_time": "2025-02-04T01:04:37.471Z"
   },
   {
    "duration": 14,
    "start_time": "2025-02-04T01:04:42.524Z"
   },
   {
    "duration": 1545,
    "start_time": "2025-02-04T01:06:37.788Z"
   },
   {
    "duration": 1527,
    "start_time": "2025-02-04T01:06:40.487Z"
   },
   {
    "duration": 2564,
    "start_time": "2025-02-04T01:09:13.960Z"
   },
   {
    "duration": 293,
    "start_time": "2025-02-04T01:09:31.782Z"
   },
   {
    "duration": 2860,
    "start_time": "2025-02-04T01:09:44.150Z"
   },
   {
    "duration": 110,
    "start_time": "2025-02-04T01:10:40.008Z"
   },
   {
    "duration": 5,
    "start_time": "2025-02-04T01:11:03.477Z"
   },
   {
    "duration": 13,
    "start_time": "2025-02-04T01:11:09.059Z"
   },
   {
    "duration": 70,
    "start_time": "2025-02-04T01:12:43.649Z"
   },
   {
    "duration": 16,
    "start_time": "2025-02-04T01:13:15.244Z"
   },
   {
    "duration": 13,
    "start_time": "2025-02-04T01:15:11.441Z"
   },
   {
    "duration": 2870,
    "start_time": "2025-02-04T01:15:16.574Z"
   },
   {
    "duration": 885,
    "start_time": "2025-02-04T01:15:26.309Z"
   },
   {
    "duration": 16,
    "start_time": "2025-02-04T02:15:53.147Z"
   },
   {
    "duration": 36,
    "start_time": "2025-02-04T02:16:00.404Z"
   },
   {
    "duration": 73,
    "start_time": "2025-02-04T02:16:18.988Z"
   },
   {
    "duration": 73,
    "start_time": "2025-02-04T02:17:12.063Z"
   },
   {
    "duration": 85,
    "start_time": "2025-02-04T02:19:02.761Z"
   },
   {
    "duration": 905,
    "start_time": "2025-02-04T02:20:29.584Z"
   },
   {
    "duration": 8,
    "start_time": "2025-02-04T02:24:18.368Z"
   },
   {
    "duration": 17,
    "start_time": "2025-02-04T02:24:21.907Z"
   },
   {
    "duration": 28,
    "start_time": "2025-02-04T02:24:26.674Z"
   },
   {
    "duration": 1530,
    "start_time": "2025-02-04T02:26:19.118Z"
   },
   {
    "duration": 73,
    "start_time": "2025-02-04T02:34:29.531Z"
   },
   {
    "duration": 93,
    "start_time": "2025-02-04T02:34:34.312Z"
   },
   {
    "duration": 54,
    "start_time": "2025-02-04T02:37:39.614Z"
   },
   {
    "duration": 134,
    "start_time": "2025-02-04T02:37:47.771Z"
   },
   {
    "duration": 82,
    "start_time": "2025-02-04T02:39:59.367Z"
   },
   {
    "duration": 99,
    "start_time": "2025-02-04T02:40:11.219Z"
   },
   {
    "duration": 68,
    "start_time": "2025-02-04T02:40:19.675Z"
   },
   {
    "duration": 73,
    "start_time": "2025-02-04T02:40:27.727Z"
   },
   {
    "duration": 82,
    "start_time": "2025-02-04T02:40:34.429Z"
   },
   {
    "duration": 16,
    "start_time": "2025-02-04T02:41:36.092Z"
   },
   {
    "duration": 70,
    "start_time": "2025-02-04T02:42:03.405Z"
   },
   {
    "duration": 71,
    "start_time": "2025-02-04T02:42:24.118Z"
   },
   {
    "duration": 83,
    "start_time": "2025-02-04T02:42:46.704Z"
   },
   {
    "duration": 29,
    "start_time": "2025-02-04T02:44:15.551Z"
   },
   {
    "duration": 24,
    "start_time": "2025-02-04T02:45:17.590Z"
   },
   {
    "duration": 28,
    "start_time": "2025-02-04T02:45:23.567Z"
   },
   {
    "duration": 9,
    "start_time": "2025-02-04T02:50:49.350Z"
   },
   {
    "duration": 9,
    "start_time": "2025-02-04T02:51:14.006Z"
   },
   {
    "duration": 8,
    "start_time": "2025-02-04T02:51:20.470Z"
   },
   {
    "duration": 8,
    "start_time": "2025-02-04T02:51:25.707Z"
   },
   {
    "duration": 30,
    "start_time": "2025-02-04T02:52:56.493Z"
   },
   {
    "duration": 90,
    "start_time": "2025-02-04T02:53:42.726Z"
   },
   {
    "duration": 65,
    "start_time": "2025-02-04T02:56:23.192Z"
   },
   {
    "duration": 71,
    "start_time": "2025-02-04T02:57:04.925Z"
   },
   {
    "duration": 64,
    "start_time": "2025-02-04T02:57:11.784Z"
   },
   {
    "duration": 2341,
    "start_time": "2025-02-04T03:04:41.711Z"
   },
   {
    "duration": 1568,
    "start_time": "2025-02-04T03:04:58.788Z"
   },
   {
    "duration": 5,
    "start_time": "2025-02-04T03:06:15.655Z"
   },
   {
    "duration": 6,
    "start_time": "2025-02-04T03:06:20.438Z"
   },
   {
    "duration": 146,
    "start_time": "2025-02-04T03:06:24.780Z"
   },
   {
    "duration": 6,
    "start_time": "2025-02-04T03:06:42.469Z"
   },
   {
    "duration": 6,
    "start_time": "2025-02-04T03:06:48.249Z"
   },
   {
    "duration": 5,
    "start_time": "2025-02-04T03:06:53.514Z"
   },
   {
    "duration": 61,
    "start_time": "2025-02-04T03:06:58.054Z"
   },
   {
    "duration": 20,
    "start_time": "2025-02-04T03:16:31.370Z"
   },
   {
    "duration": 45,
    "start_time": "2025-02-04T03:16:46.012Z"
   },
   {
    "duration": 74,
    "start_time": "2025-02-04T03:17:28.178Z"
   },
   {
    "duration": 74,
    "start_time": "2025-02-04T03:18:30.916Z"
   },
   {
    "duration": 86,
    "start_time": "2025-02-04T03:18:56.424Z"
   },
   {
    "duration": 70,
    "start_time": "2025-02-04T03:21:48.002Z"
   },
   {
    "duration": 96,
    "start_time": "2025-02-04T03:22:05.108Z"
   },
   {
    "duration": 64,
    "start_time": "2025-02-04T03:22:21.310Z"
   },
   {
    "duration": 63,
    "start_time": "2025-02-04T03:22:45.404Z"
   },
   {
    "duration": 66,
    "start_time": "2025-02-04T03:23:31.051Z"
   },
   {
    "duration": 5,
    "start_time": "2025-02-04T03:23:49.906Z"
   },
   {
    "duration": 14,
    "start_time": "2025-02-04T03:23:50.319Z"
   },
   {
    "duration": 10,
    "start_time": "2025-02-04T03:23:50.525Z"
   },
   {
    "duration": 8,
    "start_time": "2025-02-04T03:23:51.217Z"
   },
   {
    "duration": 8,
    "start_time": "2025-02-04T03:23:51.699Z"
   },
   {
    "duration": 3,
    "start_time": "2025-02-04T03:23:52.164Z"
   },
   {
    "duration": 5,
    "start_time": "2025-02-04T03:23:52.807Z"
   },
   {
    "duration": 7,
    "start_time": "2025-02-04T03:23:53.003Z"
   },
   {
    "duration": 11,
    "start_time": "2025-02-04T03:23:53.411Z"
   },
   {
    "duration": 8,
    "start_time": "2025-02-04T03:23:54.246Z"
   },
   {
    "duration": 25,
    "start_time": "2025-02-04T03:23:54.790Z"
   },
   {
    "duration": 66,
    "start_time": "2025-02-04T03:23:55.619Z"
   },
   {
    "duration": 64,
    "start_time": "2025-02-04T03:23:56.944Z"
   },
   {
    "duration": 5,
    "start_time": "2025-02-04T03:23:59.345Z"
   },
   {
    "duration": 146,
    "start_time": "2025-02-04T03:24:00.555Z"
   },
   {
    "duration": 6,
    "start_time": "2025-02-04T03:24:03.403Z"
   },
   {
    "duration": 63,
    "start_time": "2025-02-04T03:24:05.897Z"
   },
   {
    "duration": 66,
    "start_time": "2025-02-04T03:24:08.412Z"
   },
   {
    "duration": 62,
    "start_time": "2025-02-04T03:24:10.552Z"
   },
   {
    "duration": 65,
    "start_time": "2025-02-04T03:24:12.818Z"
   },
   {
    "duration": 63,
    "start_time": "2025-02-04T03:24:15.573Z"
   },
   {
    "duration": 140,
    "start_time": "2025-02-04T03:24:17.873Z"
   },
   {
    "duration": 8,
    "start_time": "2025-02-04T03:24:19.535Z"
   },
   {
    "duration": 31,
    "start_time": "2025-02-04T03:24:20.409Z"
   },
   {
    "duration": 141,
    "start_time": "2025-02-04T03:24:22.084Z"
   },
   {
    "duration": 26,
    "start_time": "2025-02-04T03:24:22.943Z"
   },
   {
    "duration": 269,
    "start_time": "2025-02-04T03:24:24.197Z"
   },
   {
    "duration": 245,
    "start_time": "2025-02-04T03:24:25.222Z"
   },
   {
    "duration": 62,
    "start_time": "2025-02-04T03:24:26.311Z"
   },
   {
    "duration": 20,
    "start_time": "2025-02-04T03:24:27.843Z"
   },
   {
    "duration": 8,
    "start_time": "2025-02-04T03:24:29.344Z"
   },
   {
    "duration": 69,
    "start_time": "2025-02-04T03:24:49.129Z"
   },
   {
    "duration": 80,
    "start_time": "2025-02-04T03:24:55.155Z"
   },
   {
    "duration": 71,
    "start_time": "2025-02-04T03:25:09.525Z"
   },
   {
    "duration": 68,
    "start_time": "2025-02-04T03:25:17.669Z"
   },
   {
    "duration": 83,
    "start_time": "2025-02-04T03:25:24.766Z"
   },
   {
    "duration": 83,
    "start_time": "2025-02-04T03:25:30.920Z"
   },
   {
    "duration": 71,
    "start_time": "2025-02-04T03:25:55.280Z"
   },
   {
    "duration": 211,
    "start_time": "2025-02-04T03:26:16.641Z"
   },
   {
    "duration": 83,
    "start_time": "2025-02-04T03:26:23.247Z"
   },
   {
    "duration": 87,
    "start_time": "2025-02-04T03:26:25.741Z"
   },
   {
    "duration": 75,
    "start_time": "2025-02-04T03:27:33.402Z"
   },
   {
    "duration": 64,
    "start_time": "2025-02-04T03:27:41.104Z"
   },
   {
    "duration": 5,
    "start_time": "2025-02-04T03:27:41.653Z"
   },
   {
    "duration": 144,
    "start_time": "2025-02-04T03:27:42.041Z"
   },
   {
    "duration": 5,
    "start_time": "2025-02-04T03:27:42.664Z"
   },
   {
    "duration": 62,
    "start_time": "2025-02-04T03:27:43.989Z"
   },
   {
    "duration": 62,
    "start_time": "2025-02-04T03:27:45.157Z"
   },
   {
    "duration": 62,
    "start_time": "2025-02-04T03:27:45.849Z"
   },
   {
    "duration": 63,
    "start_time": "2025-02-04T03:27:46.705Z"
   },
   {
    "duration": 66,
    "start_time": "2025-02-04T03:27:48.513Z"
   },
   {
    "duration": 138,
    "start_time": "2025-02-04T03:27:50.114Z"
   },
   {
    "duration": 8,
    "start_time": "2025-02-04T03:27:51.011Z"
   },
   {
    "duration": 25,
    "start_time": "2025-02-04T03:27:51.639Z"
   },
   {
    "duration": 62,
    "start_time": "2025-02-04T03:28:27.489Z"
   },
   {
    "duration": 159,
    "start_time": "2025-02-04T03:28:32.369Z"
   },
   {
    "duration": 116,
    "start_time": "2025-02-04T03:28:35.577Z"
   },
   {
    "duration": 63,
    "start_time": "2025-02-04T03:28:46.345Z"
   },
   {
    "duration": 62,
    "start_time": "2025-02-04T03:29:04.251Z"
   },
   {
    "duration": 139,
    "start_time": "2025-02-04T03:29:06.138Z"
   },
   {
    "duration": 7,
    "start_time": "2025-02-04T03:29:07.555Z"
   },
   {
    "duration": 26,
    "start_time": "2025-02-04T03:29:08.415Z"
   },
   {
    "duration": 139,
    "start_time": "2025-02-04T03:29:09.351Z"
   },
   {
    "duration": 26,
    "start_time": "2025-02-04T03:29:10.786Z"
   },
   {
    "duration": 269,
    "start_time": "2025-02-04T03:29:12.400Z"
   },
   {
    "duration": 228,
    "start_time": "2025-02-04T03:29:14.351Z"
   },
   {
    "duration": 60,
    "start_time": "2025-02-04T03:29:21.112Z"
   },
   {
    "duration": 15,
    "start_time": "2025-02-04T03:29:23.293Z"
   },
   {
    "duration": 9,
    "start_time": "2025-02-04T03:29:27.263Z"
   },
   {
    "duration": 72,
    "start_time": "2025-02-04T03:32:57.298Z"
   },
   {
    "duration": 68,
    "start_time": "2025-02-04T03:33:12.047Z"
   },
   {
    "duration": 83,
    "start_time": "2025-02-04T03:33:15.008Z"
   },
   {
    "duration": 138,
    "start_time": "2025-02-04T03:33:51.924Z"
   },
   {
    "duration": 142,
    "start_time": "2025-02-04T03:34:03.292Z"
   },
   {
    "duration": 85,
    "start_time": "2025-02-04T03:34:09.585Z"
   },
   {
    "duration": 83,
    "start_time": "2025-02-04T03:34:50.985Z"
   },
   {
    "duration": 136,
    "start_time": "2025-02-04T03:35:01.808Z"
   },
   {
    "duration": 141,
    "start_time": "2025-02-04T03:35:27.447Z"
   },
   {
    "duration": 88,
    "start_time": "2025-02-04T03:35:32.607Z"
   },
   {
    "duration": 78,
    "start_time": "2025-02-04T03:36:14.039Z"
   },
   {
    "duration": 138,
    "start_time": "2025-02-04T03:36:37.591Z"
   },
   {
    "duration": 140,
    "start_time": "2025-02-04T03:36:42.188Z"
   },
   {
    "duration": 873,
    "start_time": "2025-02-04T03:37:11.368Z"
   },
   {
    "duration": 1540,
    "start_time": "2025-02-04T03:38:26.375Z"
   },
   {
    "duration": 1545,
    "start_time": "2025-02-04T03:38:37.355Z"
   },
   {
    "duration": 873,
    "start_time": "2025-02-04T03:39:11.293Z"
   },
   {
    "duration": 119,
    "start_time": "2025-02-04T03:39:29.460Z"
   },
   {
    "duration": 61,
    "start_time": "2025-02-04T03:39:45.168Z"
   },
   {
    "duration": 61,
    "start_time": "2025-02-04T03:40:07.675Z"
   },
   {
    "duration": 61,
    "start_time": "2025-02-04T03:40:28.597Z"
   },
   {
    "duration": 61,
    "start_time": "2025-02-04T03:41:40.786Z"
   },
   {
    "duration": 63,
    "start_time": "2025-02-04T03:42:06.784Z"
   },
   {
    "duration": 63,
    "start_time": "2025-02-04T03:42:08.163Z"
   },
   {
    "duration": 164,
    "start_time": "2025-02-04T03:42:10.001Z"
   },
   {
    "duration": 8,
    "start_time": "2025-02-04T03:42:11.153Z"
   },
   {
    "duration": 27,
    "start_time": "2025-02-04T03:42:11.780Z"
   },
   {
    "duration": 152,
    "start_time": "2025-02-04T03:42:12.473Z"
   },
   {
    "duration": 24,
    "start_time": "2025-02-04T03:42:13.996Z"
   },
   {
    "duration": 234,
    "start_time": "2025-02-04T03:42:15.637Z"
   },
   {
    "duration": 388,
    "start_time": "2025-02-04T03:42:16.997Z"
   },
   {
    "duration": 62,
    "start_time": "2025-02-04T03:42:18.392Z"
   },
   {
    "duration": 16,
    "start_time": "2025-02-04T03:42:20.191Z"
   },
   {
    "duration": 8,
    "start_time": "2025-02-04T03:42:22.043Z"
   },
   {
    "duration": 1554,
    "start_time": "2025-02-04T03:42:23.808Z"
   },
   {
    "duration": 904,
    "start_time": "2025-02-04T03:43:20.301Z"
   },
   {
    "duration": 67,
    "start_time": "2025-02-04T03:43:23.919Z"
   },
   {
    "duration": 69,
    "start_time": "2025-02-04T03:43:26.810Z"
   },
   {
    "duration": 84,
    "start_time": "2025-02-04T03:43:29.155Z"
   },
   {
    "duration": 84,
    "start_time": "2025-02-04T03:45:34.899Z"
   },
   {
    "duration": 4,
    "start_time": "2025-02-04T03:45:44.480Z"
   },
   {
    "duration": 13,
    "start_time": "2025-02-04T03:45:44.882Z"
   },
   {
    "duration": 10,
    "start_time": "2025-02-04T03:45:45.075Z"
   },
   {
    "duration": 8,
    "start_time": "2025-02-04T03:45:45.794Z"
   },
   {
    "duration": 6,
    "start_time": "2025-02-04T03:45:46.266Z"
   },
   {
    "duration": 3,
    "start_time": "2025-02-04T03:45:47.179Z"
   },
   {
    "duration": 3,
    "start_time": "2025-02-04T03:45:47.770Z"
   },
   {
    "duration": 6,
    "start_time": "2025-02-04T03:45:47.968Z"
   },
   {
    "duration": 9,
    "start_time": "2025-02-04T03:45:48.410Z"
   },
   {
    "duration": 8,
    "start_time": "2025-02-04T03:45:49.724Z"
   },
   {
    "duration": 26,
    "start_time": "2025-02-04T03:45:50.419Z"
   },
   {
    "duration": 67,
    "start_time": "2025-02-04T03:45:50.968Z"
   },
   {
    "duration": 65,
    "start_time": "2025-02-04T03:45:51.581Z"
   },
   {
    "duration": 6,
    "start_time": "2025-02-04T03:45:53.073Z"
   },
   {
    "duration": 148,
    "start_time": "2025-02-04T03:45:53.952Z"
   },
   {
    "duration": 5,
    "start_time": "2025-02-04T03:45:55.555Z"
   },
   {
    "duration": 62,
    "start_time": "2025-02-04T03:45:57.070Z"
   },
   {
    "duration": 63,
    "start_time": "2025-02-04T03:45:58.594Z"
   },
   {
    "duration": 61,
    "start_time": "2025-02-04T03:46:00.220Z"
   },
   {
    "duration": 62,
    "start_time": "2025-02-04T03:46:02.629Z"
   },
   {
    "duration": 63,
    "start_time": "2025-02-04T03:46:07.797Z"
   },
   {
    "duration": 138,
    "start_time": "2025-02-04T03:46:09.232Z"
   },
   {
    "duration": 7,
    "start_time": "2025-02-04T03:46:10.561Z"
   },
   {
    "duration": 25,
    "start_time": "2025-02-04T03:46:11.245Z"
   },
   {
    "duration": 141,
    "start_time": "2025-02-04T03:46:12.216Z"
   },
   {
    "duration": 30,
    "start_time": "2025-02-04T03:46:13.302Z"
   },
   {
    "duration": 288,
    "start_time": "2025-02-04T03:46:14.572Z"
   },
   {
    "duration": 297,
    "start_time": "2025-02-04T03:46:15.563Z"
   },
   {
    "duration": 67,
    "start_time": "2025-02-04T03:46:16.538Z"
   },
   {
    "duration": 16,
    "start_time": "2025-02-04T03:46:18.008Z"
   },
   {
    "duration": 9,
    "start_time": "2025-02-04T03:46:19.700Z"
   },
   {
    "duration": 1553,
    "start_time": "2025-02-04T03:46:21.273Z"
   },
   {
    "duration": 879,
    "start_time": "2025-02-04T03:46:22.828Z"
   },
   {
    "duration": 71,
    "start_time": "2025-02-04T03:46:23.859Z"
   },
   {
    "duration": 69,
    "start_time": "2025-02-04T03:46:27.266Z"
   },
   {
    "duration": 83,
    "start_time": "2025-02-04T03:46:33.252Z"
   },
   {
    "duration": 2729,
    "start_time": "2025-02-05T01:32:50.218Z"
   },
   {
    "duration": 21,
    "start_time": "2025-02-05T01:32:52.949Z"
   },
   {
    "duration": 16,
    "start_time": "2025-02-05T01:32:52.971Z"
   },
   {
    "duration": 7,
    "start_time": "2025-02-05T01:32:52.990Z"
   },
   {
    "duration": 5,
    "start_time": "2025-02-05T01:32:53.000Z"
   },
   {
    "duration": 3,
    "start_time": "2025-02-05T01:32:53.007Z"
   },
   {
    "duration": 3,
    "start_time": "2025-02-05T01:32:53.012Z"
   },
   {
    "duration": 6,
    "start_time": "2025-02-05T01:32:53.536Z"
   },
   {
    "duration": 10,
    "start_time": "2025-02-05T01:32:53.545Z"
   },
   {
    "duration": 8,
    "start_time": "2025-02-05T01:32:54.556Z"
   },
   {
    "duration": 27,
    "start_time": "2025-02-05T01:32:55.748Z"
   },
   {
    "duration": 69,
    "start_time": "2025-02-05T01:32:57.006Z"
   },
   {
    "duration": 65,
    "start_time": "2025-02-05T01:32:59.350Z"
   },
   {
    "duration": 6,
    "start_time": "2025-02-05T01:33:01.305Z"
   },
   {
    "duration": 162,
    "start_time": "2025-02-05T01:33:02.603Z"
   },
   {
    "duration": 7,
    "start_time": "2025-02-05T01:33:04.409Z"
   },
   {
    "duration": 64,
    "start_time": "2025-02-05T01:33:07.590Z"
   },
   {
    "duration": 63,
    "start_time": "2025-02-05T01:33:10.186Z"
   },
   {
    "duration": 63,
    "start_time": "2025-02-05T01:33:12.236Z"
   },
   {
    "duration": 159,
    "start_time": "2025-02-05T02:04:19.333Z"
   },
   {
    "duration": 3147,
    "start_time": "2025-02-05T02:04:25.774Z"
   },
   {
    "duration": 25,
    "start_time": "2025-02-05T02:04:28.923Z"
   },
   {
    "duration": 12,
    "start_time": "2025-02-05T02:04:28.950Z"
   },
   {
    "duration": 8,
    "start_time": "2025-02-05T02:04:28.964Z"
   },
   {
    "duration": 5,
    "start_time": "2025-02-05T02:04:28.974Z"
   },
   {
    "duration": 3,
    "start_time": "2025-02-05T02:04:28.981Z"
   },
   {
    "duration": 5,
    "start_time": "2025-02-05T02:04:28.985Z"
   },
   {
    "duration": 32,
    "start_time": "2025-02-05T02:04:28.992Z"
   },
   {
    "duration": 11,
    "start_time": "2025-02-05T02:04:29.026Z"
   },
   {
    "duration": 10,
    "start_time": "2025-02-05T02:04:29.041Z"
   },
   {
    "duration": 27,
    "start_time": "2025-02-05T02:04:30.736Z"
   },
   {
    "duration": 70,
    "start_time": "2025-02-05T02:04:32.010Z"
   },
   {
    "duration": 65,
    "start_time": "2025-02-05T02:04:33.090Z"
   },
   {
    "duration": 6,
    "start_time": "2025-02-05T02:04:34.639Z"
   },
   {
    "duration": 157,
    "start_time": "2025-02-05T02:04:35.900Z"
   },
   {
    "duration": 5,
    "start_time": "2025-02-05T02:04:37.751Z"
   },
   {
    "duration": 5,
    "start_time": "2025-02-05T02:04:44.973Z"
   },
   {
    "duration": 6,
    "start_time": "2025-02-05T02:04:50.863Z"
   },
   {
    "duration": 31,
    "start_time": "2025-02-05T02:04:58.734Z"
   },
   {
    "duration": 40,
    "start_time": "2025-02-05T02:05:16.143Z"
   },
   {
    "duration": 50,
    "start_time": "2025-02-05T02:05:24.963Z"
   },
   {
    "duration": 59,
    "start_time": "2025-02-05T02:05:29.838Z"
   },
   {
    "duration": 62,
    "start_time": "2025-02-05T02:05:34.697Z"
   },
   {
    "duration": 62,
    "start_time": "2025-02-05T02:05:41.611Z"
   },
   {
    "duration": 64,
    "start_time": "2025-02-05T02:05:47.764Z"
   },
   {
    "duration": 64,
    "start_time": "2025-02-05T02:05:53.830Z"
   },
   {
    "duration": 61,
    "start_time": "2025-02-05T02:06:01.303Z"
   },
   {
    "duration": 64,
    "start_time": "2025-02-05T02:06:07.726Z"
   },
   {
    "duration": 55,
    "start_time": "2025-02-05T02:06:32.998Z"
   },
   {
    "duration": 52,
    "start_time": "2025-02-05T02:06:38.803Z"
   },
   {
    "duration": 122,
    "start_time": "2025-02-05T02:07:44.765Z"
   },
   {
    "duration": 51,
    "start_time": "2025-02-05T02:08:02.045Z"
   },
   {
    "duration": 18,
    "start_time": "2025-02-05T02:08:59.943Z"
   },
   {
    "duration": 51,
    "start_time": "2025-02-05T02:09:06.827Z"
   },
   {
    "duration": 53,
    "start_time": "2025-02-05T02:09:21.600Z"
   },
   {
    "duration": 5,
    "start_time": "2025-02-05T02:11:04.861Z"
   },
   {
    "duration": 15,
    "start_time": "2025-02-05T02:11:05.126Z"
   },
   {
    "duration": 11,
    "start_time": "2025-02-05T02:11:05.336Z"
   },
   {
    "duration": 7,
    "start_time": "2025-02-05T02:11:05.814Z"
   },
   {
    "duration": 6,
    "start_time": "2025-02-05T02:11:06.135Z"
   },
   {
    "duration": 4,
    "start_time": "2025-02-05T02:11:06.526Z"
   },
   {
    "duration": 3,
    "start_time": "2025-02-05T02:11:07.541Z"
   },
   {
    "duration": 6,
    "start_time": "2025-02-05T02:11:08.048Z"
   },
   {
    "duration": 9,
    "start_time": "2025-02-05T02:11:09.028Z"
   },
   {
    "duration": 9,
    "start_time": "2025-02-05T02:11:10.941Z"
   },
   {
    "duration": 26,
    "start_time": "2025-02-05T02:11:11.744Z"
   },
   {
    "duration": 66,
    "start_time": "2025-02-05T02:11:12.073Z"
   },
   {
    "duration": 64,
    "start_time": "2025-02-05T02:11:12.426Z"
   },
   {
    "duration": 6,
    "start_time": "2025-02-05T02:11:12.962Z"
   },
   {
    "duration": 148,
    "start_time": "2025-02-05T02:11:13.440Z"
   },
   {
    "duration": 6,
    "start_time": "2025-02-05T02:11:14.150Z"
   },
   {
    "duration": 62,
    "start_time": "2025-02-05T02:11:14.846Z"
   },
   {
    "duration": 63,
    "start_time": "2025-02-05T02:11:15.511Z"
   },
   {
    "duration": 63,
    "start_time": "2025-02-05T02:11:16.795Z"
   },
   {
    "duration": 51,
    "start_time": "2025-02-05T02:11:18.646Z"
   },
   {
    "duration": 64,
    "start_time": "2025-02-05T02:11:21.529Z"
   },
   {
    "duration": 149,
    "start_time": "2025-02-05T02:11:24.075Z"
   },
   {
    "duration": 11,
    "start_time": "2025-02-05T02:11:28.957Z"
   },
   {
    "duration": 27,
    "start_time": "2025-02-05T02:11:29.748Z"
   },
   {
    "duration": 145,
    "start_time": "2025-02-05T02:11:30.536Z"
   },
   {
    "duration": 38,
    "start_time": "2025-02-05T02:11:32.170Z"
   },
   {
    "duration": 243,
    "start_time": "2025-02-05T02:11:33.947Z"
   },
   {
    "duration": 144,
    "start_time": "2025-02-05T02:12:50.494Z"
   },
   {
    "duration": 148,
    "start_time": "2025-02-05T02:12:57.647Z"
   },
   {
    "duration": 142,
    "start_time": "2025-02-05T02:13:13.495Z"
   },
   {
    "duration": 140,
    "start_time": "2025-02-05T02:13:20.688Z"
   },
   {
    "duration": 143,
    "start_time": "2025-02-05T02:13:27.621Z"
   },
   {
    "duration": 1267,
    "start_time": "2025-02-05T02:16:31.721Z"
   },
   {
    "duration": 28,
    "start_time": "2025-02-05T02:16:39.491Z"
   },
   {
    "duration": 147,
    "start_time": "2025-02-05T02:16:44.549Z"
   },
   {
    "duration": 5,
    "start_time": "2025-02-05T02:37:26.201Z"
   },
   {
    "duration": 13,
    "start_time": "2025-02-05T02:37:26.476Z"
   },
   {
    "duration": 10,
    "start_time": "2025-02-05T02:37:26.645Z"
   },
   {
    "duration": 8,
    "start_time": "2025-02-05T02:37:27.164Z"
   },
   {
    "duration": 6,
    "start_time": "2025-02-05T02:37:27.462Z"
   },
   {
    "duration": 4,
    "start_time": "2025-02-05T02:37:27.811Z"
   },
   {
    "duration": 4,
    "start_time": "2025-02-05T02:37:28.346Z"
   },
   {
    "duration": 6,
    "start_time": "2025-02-05T02:37:28.496Z"
   },
   {
    "duration": 9,
    "start_time": "2025-02-05T02:37:28.837Z"
   },
   {
    "duration": 8,
    "start_time": "2025-02-05T02:37:30.624Z"
   },
   {
    "duration": 26,
    "start_time": "2025-02-05T02:37:31.924Z"
   },
   {
    "duration": 68,
    "start_time": "2025-02-05T02:37:32.831Z"
   },
   {
    "duration": 66,
    "start_time": "2025-02-05T02:37:37.398Z"
   },
   {
    "duration": 6,
    "start_time": "2025-02-05T02:37:38.921Z"
   },
   {
    "duration": 161,
    "start_time": "2025-02-05T02:37:40.028Z"
   },
   {
    "duration": 8,
    "start_time": "2025-02-05T02:37:42.388Z"
   },
   {
    "duration": 63,
    "start_time": "2025-02-05T02:37:48.647Z"
   },
   {
    "duration": 66,
    "start_time": "2025-02-05T02:37:51.903Z"
   },
   {
    "duration": 62,
    "start_time": "2025-02-05T02:37:53.650Z"
   },
   {
    "duration": 52,
    "start_time": "2025-02-05T02:37:55.321Z"
   },
   {
    "duration": 64,
    "start_time": "2025-02-05T02:37:57.106Z"
   },
   {
    "duration": 143,
    "start_time": "2025-02-05T02:37:58.848Z"
   },
   {
    "duration": 7,
    "start_time": "2025-02-05T02:38:00.621Z"
   },
   {
    "duration": 28,
    "start_time": "2025-02-05T02:38:01.632Z"
   },
   {
    "duration": 148,
    "start_time": "2025-02-05T02:38:03.000Z"
   },
   {
    "duration": 271,
    "start_time": "2025-02-05T02:38:04.116Z"
   },
   {
    "duration": 297,
    "start_time": "2025-02-05T02:38:05.393Z"
   },
   {
    "duration": 61,
    "start_time": "2025-02-05T02:38:06.609Z"
   },
   {
    "duration": 23,
    "start_time": "2025-02-05T02:38:07.919Z"
   },
   {
    "duration": 883,
    "start_time": "2025-02-05T02:38:09.308Z"
   },
   {
    "duration": 70,
    "start_time": "2025-02-05T02:38:10.211Z"
   },
   {
    "duration": 70,
    "start_time": "2025-02-05T02:38:12.284Z"
   }
  ],
  "kernelspec": {
   "display_name": "base",
   "language": "python",
   "name": "python3"
  },
  "language_info": {
   "codemirror_mode": {
    "name": "ipython",
    "version": 3
   },
   "file_extension": ".py",
   "mimetype": "text/x-python",
   "name": "python",
   "nbconvert_exporter": "python",
   "pygments_lexer": "ipython3",
   "version": "3.12.7"
  },
  "toc": {
   "base_numbering": 1,
   "nav_menu": {},
   "number_sections": true,
   "sideBar": true,
   "skip_h1_title": true,
   "title_cell": "Table of Contents",
   "title_sidebar": "Contents",
   "toc_cell": false,
   "toc_position": {},
   "toc_section_display": true,
   "toc_window_display": false
  }
 },
 "nbformat": 4,
 "nbformat_minor": 2
}
